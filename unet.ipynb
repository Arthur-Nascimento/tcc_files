{
  "cells": [
    {
      "cell_type": "code",
      "execution_count": 1,
      "metadata": {
        "id": "mG3TzmFgIP3V"
      },
      "outputs": [
        {
          "name": "stderr",
          "output_type": "stream",
          "text": [
            "2023-04-04 11:40:41.249442: I tensorflow/core/platform/cpu_feature_guard.cc:193] This TensorFlow binary is optimized with oneAPI Deep Neural Network Library (oneDNN) to use the following CPU instructions in performance-critical operations:  SSE4.1 SSE4.2 AVX AVX2 FMA\n",
            "To enable them in other operations, rebuild TensorFlow with the appropriate compiler flags.\n"
          ]
        }
      ],
      "source": [
        "from tensorflow.keras.layers import Conv2D, MaxPooling2D, Input, Conv2DTranspose, Concatenate, concatenate, Cropping2D\n",
        "from tensorflow.keras.models import Model\n",
        "import tensorflow as tf"
      ]
    },
    {
      "cell_type": "code",
      "execution_count": 2,
      "metadata": {},
      "outputs": [],
      "source": [
        "pad = 'same'"
      ]
    },
    {
      "cell_type": "code",
      "execution_count": 3,
      "metadata": {
        "colab": {
          "base_uri": "https://localhost:8080/"
        },
        "id": "GzVrkVWYKVSJ",
        "outputId": "f4f694c3-07b0-469e-c882-193cd4a8af99"
      },
      "outputs": [
        {
          "name": "stderr",
          "output_type": "stream",
          "text": [
            "2023-04-04 11:40:59.074070: I tensorflow/core/platform/cpu_feature_guard.cc:193] This TensorFlow binary is optimized with oneAPI Deep Neural Network Library (oneDNN) to use the following CPU instructions in performance-critical operations:  SSE4.1 SSE4.2 AVX AVX2 FMA\n",
            "To enable them in other operations, rebuild TensorFlow with the appropriate compiler flags.\n",
            "2023-04-04 11:40:59.074920: I tensorflow/core/common_runtime/process_util.cc:146] Creating new thread pool with default inter op setting: 2. Tune using inter_op_parallelism_threads for best performance.\n"
          ]
        },
        {
          "data": {
            "text/plain": [
              "TensorShape([None, 256, 256, 64])"
            ]
          },
          "execution_count": 3,
          "metadata": {},
          "output_type": "execute_result"
        }
      ],
      "source": [
        "input = Input((512, 512, 3))\n",
        "\n",
        "conv1 = Conv2D(64, (3,3), padding = pad, activation = 'relu')(input)\n",
        "conv1 = Conv2D(64, (3,3), padding = pad, activation = 'relu')(conv1)\n",
        "pool1 = MaxPooling2D(pool_size = (2,2))(conv1)\n",
        "\n",
        "pool1.shape"
      ]
    },
    {
      "cell_type": "code",
      "execution_count": 4,
      "metadata": {
        "colab": {
          "base_uri": "https://localhost:8080/"
        },
        "id": "Tz4M6x6WNC6w",
        "outputId": "4a26bcdd-5ea8-4be4-e8fa-83d15eba992c"
      },
      "outputs": [
        {
          "data": {
            "text/plain": [
              "TensorShape([None, 128, 128, 128])"
            ]
          },
          "execution_count": 4,
          "metadata": {},
          "output_type": "execute_result"
        }
      ],
      "source": [
        "conv2 = Conv2D(128, (3,3), padding = pad, activation = 'relu')(pool1)\n",
        "conv2 = Conv2D(128, (3,3), padding = pad, activation = 'relu')(conv2)\n",
        "pool2 = MaxPooling2D(pool_size = (2,2))(conv2)\n",
        "\n",
        "pool2.shape"
      ]
    },
    {
      "cell_type": "code",
      "execution_count": 5,
      "metadata": {
        "colab": {
          "base_uri": "https://localhost:8080/"
        },
        "id": "0UVxZsjhNM1u",
        "outputId": "14354943-24af-47cb-9fca-849186c9a2e2"
      },
      "outputs": [
        {
          "data": {
            "text/plain": [
              "TensorShape([None, 64, 64, 256])"
            ]
          },
          "execution_count": 5,
          "metadata": {},
          "output_type": "execute_result"
        }
      ],
      "source": [
        "conv3 = Conv2D(256, (3,3), padding = pad, activation = 'relu')(pool2)\n",
        "conv3 = Conv2D(256, (3,3), padding = pad, activation = 'relu')(conv3)\n",
        "pool3 = MaxPooling2D(pool_size = (2,2))(conv3)\n",
        "\n",
        "pool3.shape"
      ]
    },
    {
      "cell_type": "code",
      "execution_count": 6,
      "metadata": {
        "colab": {
          "base_uri": "https://localhost:8080/"
        },
        "id": "i1zqFChqNSGI",
        "outputId": "5ae3afb4-6ed6-4b2e-e281-4c655cbeecb1"
      },
      "outputs": [
        {
          "data": {
            "text/plain": [
              "TensorShape([None, 32, 32, 512])"
            ]
          },
          "execution_count": 6,
          "metadata": {},
          "output_type": "execute_result"
        }
      ],
      "source": [
        "conv4 = Conv2D(512, (3,3), padding = pad, activation = 'relu')(pool3)\n",
        "conv4 = Conv2D(512, (3,3), padding = pad, activation = 'relu')(conv4)\n",
        "pool4 = MaxPooling2D(pool_size = (2,2))(conv4)\n",
        "\n",
        "pool4.shape"
      ]
    },
    {
      "cell_type": "code",
      "execution_count": 7,
      "metadata": {
        "colab": {
          "base_uri": "https://localhost:8080/"
        },
        "id": "5NfICPA5NTrm",
        "outputId": "bb83803f-1b88-4260-f44a-7200cdf4b782"
      },
      "outputs": [
        {
          "data": {
            "text/plain": [
              "TensorShape([None, 32, 32, 1024])"
            ]
          },
          "execution_count": 7,
          "metadata": {},
          "output_type": "execute_result"
        }
      ],
      "source": [
        "conv5 = Conv2D(1024, (3,3), padding = pad, activation = 'relu')(pool4)\n",
        "conv5 = Conv2D(1024, (3,3), padding = pad, activation = 'relu')(conv5)\n",
        "\n",
        "conv5.shape"
      ]
    },
    {
      "cell_type": "code",
      "execution_count": 8,
      "metadata": {},
      "outputs": [],
      "source": [
        "def get_cropping_shape(previous_layer_shape, current_layer_shape):\n",
        "    return int((previous_layer_shape - current_layer_shape)/2)"
      ]
    },
    {
      "cell_type": "code",
      "execution_count": 9,
      "metadata": {
        "colab": {
          "base_uri": "https://localhost:8080/"
        },
        "id": "WUSzMYrdOsjA",
        "outputId": "a5244a73-9276-450d-c11f-710fccc439af"
      },
      "outputs": [
        {
          "data": {
            "text/plain": [
              "TensorShape([None, 64, 64, 512])"
            ]
          },
          "execution_count": 9,
          "metadata": {},
          "output_type": "execute_result"
        }
      ],
      "source": [
        "convUp = Conv2DTranspose(512, (2,2), strides = (2,2), padding = pad, activation = 'relu')(conv5)\n",
        "convUp = Concatenate()([convUp, conv4])\n",
        "convUp = Conv2D(512, (3,3), padding = pad, activation = 'relu')(convUp)\n",
        "convUp = Conv2D(512, (3,3), padding = pad, activation = 'relu')(convUp)\n",
        "\n",
        "\n",
        "convUp.shape"
      ]
    },
    {
      "cell_type": "code",
      "execution_count": 10,
      "metadata": {
        "colab": {
          "base_uri": "https://localhost:8080/"
        },
        "id": "O7lVwKT3TqkY",
        "outputId": "e3e31536-f8bf-4962-96e1-2b5b9eb77285"
      },
      "outputs": [
        {
          "data": {
            "text/plain": [
              "TensorShape([None, 128, 128, 256])"
            ]
          },
          "execution_count": 10,
          "metadata": {},
          "output_type": "execute_result"
        }
      ],
      "source": [
        "convUp = Conv2DTranspose(256, (2,2), strides = (2,2), padding = 'same', activation = 'relu')(convUp)\n",
        "convUp = Concatenate()([convUp, conv3])\n",
        "convUp = Conv2D(256, (3,3), padding = pad, activation = 'relu')(convUp)\n",
        "convUp = Conv2D(256, (3,3), padding = pad, activation = 'relu')(convUp)\n",
        "\n",
        "\n",
        "convUp.shape"
      ]
    },
    {
      "cell_type": "code",
      "execution_count": 11,
      "metadata": {
        "colab": {
          "base_uri": "https://localhost:8080/"
        },
        "id": "DMg2DDYBTxiY",
        "outputId": "a32d26fb-1c02-410e-e91a-81b8fe0cad4e"
      },
      "outputs": [
        {
          "data": {
            "text/plain": [
              "TensorShape([None, 256, 256, 128])"
            ]
          },
          "execution_count": 11,
          "metadata": {},
          "output_type": "execute_result"
        }
      ],
      "source": [
        "convUp = Conv2DTranspose(128, (2,2), strides = (2,2), padding = 'same', activation = 'relu')(convUp)\n",
        "convUp = Concatenate()([convUp, conv2])\n",
        "convUp = Conv2D(128, (3,3), padding = pad, activation = 'relu')(convUp)\n",
        "convUp = Conv2D(128, (3,3), padding = pad, activation = 'relu')(convUp)\n",
        "\n",
        "\n",
        "convUp.shape"
      ]
    },
    {
      "cell_type": "code",
      "execution_count": 12,
      "metadata": {
        "colab": {
          "base_uri": "https://localhost:8080/"
        },
        "id": "TVAnG-AKTz1o",
        "outputId": "a3b35b8b-3bcf-44fe-aaf1-61d032207d70"
      },
      "outputs": [
        {
          "data": {
            "text/plain": [
              "TensorShape([None, 512, 512, 64])"
            ]
          },
          "execution_count": 12,
          "metadata": {},
          "output_type": "execute_result"
        }
      ],
      "source": [
        "convUp = Conv2DTranspose(64, (2,2), strides = (2,2), padding = 'same', activation = 'relu')(convUp)\n",
        "convUp = Concatenate()([convUp, conv1])\n",
        "convUp = Conv2D(64, (3,3), padding = pad, activation = 'relu')(convUp)\n",
        "convUp = Conv2D(64, (3,3), padding = pad, activation = 'relu')(convUp)\n",
        "\n",
        "\n",
        "convUp.shape"
      ]
    },
    {
      "cell_type": "code",
      "execution_count": 13,
      "metadata": {
        "colab": {
          "base_uri": "https://localhost:8080/"
        },
        "id": "ogL5vwADT-TA",
        "outputId": "6dc2ba83-e708-4033-dfff-e42fb419ce97"
      },
      "outputs": [
        {
          "name": "stdout",
          "output_type": "stream",
          "text": [
            "Model: \"model\"\n",
            "__________________________________________________________________________________________________\n",
            " Layer (type)                   Output Shape         Param #     Connected to                     \n",
            "==================================================================================================\n",
            " input_1 (InputLayer)           [(None, 512, 512, 3  0           []                               \n",
            "                                )]                                                                \n",
            "                                                                                                  \n",
            " conv2d (Conv2D)                (None, 512, 512, 64  1792        ['input_1[0][0]']                \n",
            "                                )                                                                 \n",
            "                                                                                                  \n",
            " conv2d_1 (Conv2D)              (None, 512, 512, 64  36928       ['conv2d[0][0]']                 \n",
            "                                )                                                                 \n",
            "                                                                                                  \n",
            " max_pooling2d (MaxPooling2D)   (None, 256, 256, 64  0           ['conv2d_1[0][0]']               \n",
            "                                )                                                                 \n",
            "                                                                                                  \n",
            " conv2d_2 (Conv2D)              (None, 256, 256, 12  73856       ['max_pooling2d[0][0]']          \n",
            "                                8)                                                                \n",
            "                                                                                                  \n",
            " conv2d_3 (Conv2D)              (None, 256, 256, 12  147584      ['conv2d_2[0][0]']               \n",
            "                                8)                                                                \n",
            "                                                                                                  \n",
            " max_pooling2d_1 (MaxPooling2D)  (None, 128, 128, 12  0          ['conv2d_3[0][0]']               \n",
            "                                8)                                                                \n",
            "                                                                                                  \n",
            " conv2d_4 (Conv2D)              (None, 128, 128, 25  295168      ['max_pooling2d_1[0][0]']        \n",
            "                                6)                                                                \n",
            "                                                                                                  \n",
            " conv2d_5 (Conv2D)              (None, 128, 128, 25  590080      ['conv2d_4[0][0]']               \n",
            "                                6)                                                                \n",
            "                                                                                                  \n",
            " max_pooling2d_2 (MaxPooling2D)  (None, 64, 64, 256)  0          ['conv2d_5[0][0]']               \n",
            "                                                                                                  \n",
            " conv2d_6 (Conv2D)              (None, 64, 64, 512)  1180160     ['max_pooling2d_2[0][0]']        \n",
            "                                                                                                  \n",
            " conv2d_7 (Conv2D)              (None, 64, 64, 512)  2359808     ['conv2d_6[0][0]']               \n",
            "                                                                                                  \n",
            " max_pooling2d_3 (MaxPooling2D)  (None, 32, 32, 512)  0          ['conv2d_7[0][0]']               \n",
            "                                                                                                  \n",
            " conv2d_8 (Conv2D)              (None, 32, 32, 1024  4719616     ['max_pooling2d_3[0][0]']        \n",
            "                                )                                                                 \n",
            "                                                                                                  \n",
            " conv2d_9 (Conv2D)              (None, 32, 32, 1024  9438208     ['conv2d_8[0][0]']               \n",
            "                                )                                                                 \n",
            "                                                                                                  \n",
            " conv2d_transpose (Conv2DTransp  (None, 64, 64, 512)  2097664    ['conv2d_9[0][0]']               \n",
            " ose)                                                                                             \n",
            "                                                                                                  \n",
            " concatenate (Concatenate)      (None, 64, 64, 1024  0           ['conv2d_transpose[0][0]',       \n",
            "                                )                                 'conv2d_7[0][0]']               \n",
            "                                                                                                  \n",
            " conv2d_10 (Conv2D)             (None, 64, 64, 512)  4719104     ['concatenate[0][0]']            \n",
            "                                                                                                  \n",
            " conv2d_11 (Conv2D)             (None, 64, 64, 512)  2359808     ['conv2d_10[0][0]']              \n",
            "                                                                                                  \n",
            " conv2d_transpose_1 (Conv2DTran  (None, 128, 128, 25  524544     ['conv2d_11[0][0]']              \n",
            " spose)                         6)                                                                \n",
            "                                                                                                  \n",
            " concatenate_1 (Concatenate)    (None, 128, 128, 51  0           ['conv2d_transpose_1[0][0]',     \n",
            "                                2)                                'conv2d_5[0][0]']               \n",
            "                                                                                                  \n",
            " conv2d_12 (Conv2D)             (None, 128, 128, 25  1179904     ['concatenate_1[0][0]']          \n",
            "                                6)                                                                \n",
            "                                                                                                  \n",
            " conv2d_13 (Conv2D)             (None, 128, 128, 25  590080      ['conv2d_12[0][0]']              \n",
            "                                6)                                                                \n",
            "                                                                                                  \n",
            " conv2d_transpose_2 (Conv2DTran  (None, 256, 256, 12  131200     ['conv2d_13[0][0]']              \n",
            " spose)                         8)                                                                \n",
            "                                                                                                  \n",
            " concatenate_2 (Concatenate)    (None, 256, 256, 25  0           ['conv2d_transpose_2[0][0]',     \n",
            "                                6)                                'conv2d_3[0][0]']               \n",
            "                                                                                                  \n",
            " conv2d_14 (Conv2D)             (None, 256, 256, 12  295040      ['concatenate_2[0][0]']          \n",
            "                                8)                                                                \n",
            "                                                                                                  \n",
            " conv2d_15 (Conv2D)             (None, 256, 256, 12  147584      ['conv2d_14[0][0]']              \n",
            "                                8)                                                                \n",
            "                                                                                                  \n",
            " conv2d_transpose_3 (Conv2DTran  (None, 512, 512, 64  32832      ['conv2d_15[0][0]']              \n",
            " spose)                         )                                                                 \n",
            "                                                                                                  \n",
            " concatenate_3 (Concatenate)    (None, 512, 512, 12  0           ['conv2d_transpose_3[0][0]',     \n",
            "                                8)                                'conv2d_1[0][0]']               \n",
            "                                                                                                  \n",
            " conv2d_16 (Conv2D)             (None, 512, 512, 64  73792       ['concatenate_3[0][0]']          \n",
            "                                )                                                                 \n",
            "                                                                                                  \n",
            " conv2d_17 (Conv2D)             (None, 512, 512, 64  36928       ['conv2d_16[0][0]']              \n",
            "                                )                                                                 \n",
            "                                                                                                  \n",
            " conv2d_18 (Conv2D)             (None, 512, 512, 1)  65          ['conv2d_17[0][0]']              \n",
            "                                                                                                  \n",
            "==================================================================================================\n",
            "Total params: 31,031,745\n",
            "Trainable params: 31,031,745\n",
            "Non-trainable params: 0\n",
            "__________________________________________________________________________________________________\n"
          ]
        }
      ],
      "source": [
        "output = Conv2D(1, (1,1), activation = 'sigmoid')(convUp)\n",
        "output.shape\n",
        "\n",
        "model = Model(inputs = [input], outputs = [output])\n",
        "model.compile(optimizer = tf.keras.optimizers.Adam(learning_rate=1e-3), loss = 'binary_crossentropy', metrics = ['accuracy'])\n",
        "\n",
        "model.summary()"
      ]
    },
    {
      "cell_type": "code",
      "execution_count": null,
      "metadata": {
        "colab": {
          "base_uri": "https://localhost:8080/",
          "height": 1000
        },
        "id": "oPsoVYFW4ovV",
        "outputId": "107043a0-cd9a-4fec-908e-4275f67090af"
      },
      "outputs": [
        {
          "name": "stdout",
          "output_type": "stream",
          "text": [
            "You must install pydot (`pip install pydot`) and install graphviz (see instructions at https://graphviz.gitlab.io/download/) for plot_model to work.\n"
          ]
        }
      ],
      "source": [
        "tf.keras.utils.plot_model(model, \"model.png\")"
      ]
    },
    {
      "cell_type": "code",
      "execution_count": null,
      "metadata": {
        "id": "xcpYYcGDVHMk"
      },
      "outputs": [],
      "source": [
        "#Data\n",
        "import numpy as np\n",
        "import os\n",
        "import cv2"
      ]
    },
    {
      "cell_type": "code",
      "execution_count": null,
      "metadata": {
        "colab": {
          "base_uri": "https://localhost:8080/"
        },
        "id": "YuMHf3VbgFeK",
        "outputId": "b15a9c90-b141-4832-af27-b8008bc0eacb"
      },
      "outputs": [
        {
          "name": "stdout",
          "output_type": "stream",
          "text": [
            "(512, 512, 3)\n",
            "(512, 512)\n",
            "(566, 512, 512, 3)\n",
            "(566, 512, 512)\n"
          ]
        }
      ],
      "source": [
        "input_path = os.listdir(\"data/img/\")\n",
        "output_path = os.listdir(\"data/mask/\")\n",
        "\n",
        "X =  np.zeros((len(input_path), 512, 512, 3), dtype = \"uint8\")\n",
        "y =  np.zeros((len(output_path), 512, 512), dtype = \"bool\")\n",
        "\n",
        "for i in range(len(input_path)):\n",
        "    img_path = os.path.join(\"./data/img\", input_path[i])\n",
        "    mask_path = os.path.join(\"data/mask\", output_path[i])\n",
        "    img = cv2.imread(img_path)\n",
        "    mask =cv2.cvtColor(cv2.imread(mask_path), cv2.COLOR_BGR2GRAY)\n",
        "    img = cv2.resize(img, (512, 512))\n",
        "    mask = cv2.resize(mask, (512, 512))\n",
        "    X[i] = img\n",
        "    y[i] = mask\n",
        "    i = i + 1\n",
        "\n",
        "print(img.shape)\n",
        "print(mask.shape)\n",
        "print(X.shape)\n",
        "print(y.shape)\n"
      ]
    },
    {
      "cell_type": "code",
      "execution_count": null,
      "metadata": {},
      "outputs": [
        {
          "data": {
            "image/png": "[encoded data removed]",
            "text/plain": [
              "<Figure size 640x480 with 2 Axes>"
            ]
          },
          "metadata": {},
          "output_type": "display_data"
        }
      ],
      "source": [
        "%matplotlib inline\n",
        "from matplotlib import pyplot as plt\n",
        "f, axarr = plt.subplots(2)\n",
        "axarr[0].imshow(X[0])\n",
        "axarr[1].imshow(y[0,:,:], cmap = 'gray')\n",
        "plt.show()\n"
      ]
    },
    {
      "cell_type": "code",
      "execution_count": null,
      "metadata": {
        "colab": {
          "base_uri": "https://localhost:8080/",
          "height": 183
        },
        "id": "bwPxrg0ihWHb",
        "outputId": "d4c9bceb-4791-43cc-a54c-e1d6ef3aabb7"
      },
      "outputs": [],
      "source": [
        "#checkpoint = tf.keras.callbacks.ModelCheckpoint(filepath='model.h5', save_freq = 'epoch')\n",
        "#history = model.fit(X, y, epochs=10, batch_size = 8, callbacks = [checkpoint])"
      ]
    },
    {
      "cell_type": "code",
      "execution_count": null,
      "metadata": {
        "colab": {
          "base_uri": "https://localhost:8080/",
          "height": 432
        },
        "id": "NV9cVNS0QFLT",
        "outputId": "a869f85a-d805-456b-d618-ced9e2046dd1"
      },
      "outputs": [],
      "source": [
        "#model = tf.keras.models.load_model('model.31.h5')\n",
        "#test = model.predict('dataset/img/CHNCXR_0001_0.png')"
      ]
    }
  ],
  "metadata": {
    "accelerator": "GPU",
    "colab": {
      "provenance": []
    },
    "gpuClass": "standard",
    "kernelspec": {
      "display_name": "Python 3",
      "name": "python3"
    },
    "language_info": {
      "codemirror_mode": {
        "name": "ipython",
        "version": 3
      },
      "file_extension": ".py",
      "mimetype": "text/x-python",
      "name": "python",
      "nbconvert_exporter": "python",
      "pygments_lexer": "ipython3",
      "version": "3.10.10"
    }
  },
  "nbformat": 4,
  "nbformat_minor": 0
}

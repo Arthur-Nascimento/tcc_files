{
  "cells": [
    {
      "cell_type": "code",
      "execution_count": 62,
      "metadata": {
        "id": "mG3TzmFgIP3V"
      },
      "outputs": [],
      "source": [
        "from tensorflow.keras.layers import Conv2D, MaxPooling2D, Input, Conv2DTranspose, Concatenate, concatenate, BatchNormalization, Dropout\n",
        "from tensorflow.keras.models import Model\n",
        "from tensorflow.keras.metrics import MeanIoU\n",
        "from tensorflow.keras.callbacks import ModelCheckpoint\n",
        "from tensorflow.keras import backend as K \n",
        "import tensorflow as tf"
      ]
    },
    {
      "attachments": {},
      "cell_type": "markdown",
      "metadata": {
        "id": "EDTBA-oRPDLv"
      },
      "source": [
        "#1 Importando Dataset"
      ]
    },
    {
      "cell_type": "code",
      "execution_count": 63,
      "metadata": {
        "id": "xcpYYcGDVHMk"
      },
      "outputs": [],
      "source": [
        "#Data\n",
        "import numpy as np\n",
        "import os\n",
        "import cv2\n",
        "from tensorflow.keras.utils import image_dataset_from_directory"
      ]
    },
    {
      "cell_type": "code",
      "execution_count": 64,
      "metadata": {
        "id": "YuMHf3VbgFeK"
      },
      "outputs": [
        {
          "name": "stdout",
          "output_type": "stream",
          "text": [
            "(198, 512, 512)\n",
            "198\n",
            "(148, 512, 512) (50, 512, 512) (148, 512, 512) (148, 512, 512)\n"
          ]
        }
      ],
      "source": [
        "'''\n",
        "X_val = np.load('images_val.npy')\n",
        "y_val = np.load('masks_val.npy')\n",
        "X = np.load('images.npy')\n",
        "y = np.load('masks.npy')\n",
        "    \n",
        "\n",
        "print(X_val.shape)\n",
        "print(y_val.shape)\n",
        "print(X.shape)\n",
        "print(y.shape)\n",
        "'''\n",
        "tomo = True\n",
        "train_amount = 0.75\n",
        "\n",
        "if not tomo:\n",
        "  if not os.path.isdir(\"mask\"):\n",
        "    !unzip data.zip\n",
        "\n",
        "  input_path = os.listdir(\"img/\")\n",
        "\n",
        "  toTrain = round(len(input_path)*(1-val_amount))\n",
        "  toVal = round(len(input_path)*val_amount)\n",
        "\n",
        "  X =  np.zeros((toTrain, 512, 512), dtype = \"uint8\")\n",
        "  y =  np.zeros((toTrain, 512, 512), dtype = \"bool\")\n",
        "  X_val = np.zeros((toVal, 512, 512), dtype = \"uint8\")\n",
        "  y_val = np.zeros((toVal, 512, 512), dtype = \"bool\")\n",
        "\n",
        "  norm = 0\n",
        "  vali = 0\n",
        "  for i in range(len(input_path)):\n",
        "      img_path = os.path.join(\"img/\", input_path[i])\n",
        "      mask_path = os.path.join(\"mask/\", input_path[i])\n",
        "      img = cv2.cvtColor(cv2.imread(img_path), cv2.COLOR_BGR2GRAY)\n",
        "      mask = cv2.cvtColor(cv2.imread(mask_path), cv2.COLOR_BGR2GRAY)\n",
        "      img = cv2.resize(img, (512, 512))\n",
        "      mask = cv2.resize(mask, (512, 512))\n",
        "      \n",
        "      if i >= toTrain:\n",
        "          X_val[vali, :, :] = img\n",
        "          y_val[vali, :, :] = mask\n",
        "          vali += 1\n",
        "      else:\n",
        "          X[norm, :, :] = img\n",
        "          y[norm, :, :] = mask\n",
        "          norm += 1\n",
        "else:\n",
        "  import nibabel as nib\n",
        "\n",
        "  datasets_path = \"./datasets/tomo\"\n",
        "  imgs_path = os.path.join(datasets_path, \"img/volume_pt1\")\n",
        "  masks_path = os.path.join(datasets_path, \"mask\")\n",
        "\n",
        "  volumes_num = 1\n",
        "  total_volumes = volumes_num*2\n",
        "\n",
        "\n",
        "  images_path = [f\"{imgs_path}/volume-{i}.nii\" for i in range(total_volumes)]\n",
        "  masks_path = [f\"{masks_path}/segmentation-{i}.nii\" for i in range(total_volumes)]\n",
        "  imgs = []\n",
        "  masks = []\n",
        "  for file in images_path:\n",
        "      img = nib.load(file).get_fdata()\n",
        "      for i in range(img.shape[2]):\n",
        "          imgs.append(img[:,:,i])\n",
        "  #imgs = np.transpose(imgs, axes=[1,2,0])\n",
        "  imgs = np.array(imgs)\n",
        "\n",
        "\n",
        "  for file in masks_path:\n",
        "      img = nib.load(file).get_fdata()\n",
        "      for i in range(img.shape[2]):\n",
        "          masks.append(img[:,:,i])\n",
        "  #masks = np.transpose(masks, axes=[1,2,0])\n",
        "  masks = np.array(masks)\n",
        "  print(masks.shape)\n",
        "\n",
        "  total_samples = imgs.shape[0]\n",
        "  print(total_samples)\n",
        "  toTrain = int(train_amount * total_samples)\n",
        "  toVal = total_samples - toTrain\n",
        "\n",
        "  X = imgs[:toTrain,:,:]\n",
        "  X_val = imgs[toTrain:,:,:]\n",
        "  y = masks[:toTrain,:,:]\n",
        "  y_val = masks[toTrain:,:,:]\n",
        "\n",
        "  print(X.shape, X_val.shape, y.shape, y_val.shape)"
      ]
    },
    {
      "cell_type": "code",
      "execution_count": 65,
      "metadata": {
        "colab": {
          "base_uri": "https://localhost:8080/",
          "height": 435
        },
        "id": "TqcqDoTMw59l",
        "outputId": "f14e0a27-4cbb-4234-f15a-19c243ec43f7"
      },
      "outputs": [
        {
          "data": {
            "image/png": "[encoded data removed]",
            "text/plain": [
              "<Figure size 640x480 with 4 Axes>"
            ]
          },
          "metadata": {},
          "output_type": "display_data"
        }
      ],
      "source": [
        "%matplotlib inline\n",
        "from matplotlib import pyplot as plt\n",
        "f, axarr = plt.subplots(2,2)\n",
        "axarr[0,0].imshow(X[1], cmap = 'gray')\n",
        "axarr[0,1].imshow(y[1,:,:], cmap = 'gray')\n",
        "axarr[1,0].imshow(X_val[1], cmap = 'gray')\n",
        "axarr[1,1].imshow(y_val[1,:,:], cmap = 'gray')\n",
        "\n",
        "plt.show()"
      ]
    },
    {
      "cell_type": "code",
      "execution_count": 66,
      "metadata": {
        "id": "JvG698XZ23p-"
      },
      "outputs": [],
      "source": [
        "#Variables\n",
        "filters = 16"
      ]
    },
    {
      "attachments": {},
      "cell_type": "markdown",
      "metadata": {
        "id": "-eBKPfsJE8hv"
      },
      "source": [
        "#2 Criando a arquitetura"
      ]
    },
    {
      "cell_type": "code",
      "execution_count": 67,
      "metadata": {
        "id": "HZ68X7Ba1CPi"
      },
      "outputs": [],
      "source": [
        "#Definindo dice coeficiente\n",
        "def dice_coefficient(y_true, y_pred, smooth=1):\n",
        "    y_true = K.cast(y_true, dtype='float32')  # Convert y_true to float32\n",
        "    intersection = K.sum(K.abs(y_true * y_pred), axis=-1)\n",
        "    union = K.sum(y_true, axis=-1) + K.sum(y_pred, axis=-1)\n",
        "    dice = (2.0 * intersection + smooth) / (union + smooth)\n",
        "    return dice\n",
        "\n",
        "def dice_loss(y_true, y_pred):\n",
        "    loss = 1 - dice_coefficient(y_true, y_pred)\n",
        "    return loss"
      ]
    },
    {
      "cell_type": "code",
      "execution_count": 68,
      "metadata": {
        "colab": {
          "base_uri": "https://localhost:8080/"
        },
        "id": "GzVrkVWYKVSJ",
        "outputId": "410b1371-4fff-49e8-a882-05fb2782fa27"
      },
      "outputs": [
        {
          "data": {
            "text/plain": [
              "TensorShape([None, 256, 256, 32])"
            ]
          },
          "execution_count": 68,
          "metadata": {},
          "output_type": "execute_result"
        }
      ],
      "source": [
        "input = Input((512, 512,1))\n",
        "\n",
        "conv1 = Conv2D(filters*2, (3,3), padding = 'same', activation = 'relu', kernel_initializer = 'he_uniform')(input)\n",
        "# Including batch normalization as possible fix to all black prediction\n",
        "#conv1 = BatchNormalization()(conv1)\n",
        "conv1_ = Conv2D(filters*2, (3,3), padding = 'same', activation = 'relu', kernel_initializer = 'he_uniform')(conv1)\n",
        "#conv1 = BatchNormalization()(conv1)\n",
        "pool1 = MaxPooling2D(pool_size = (2,2))(conv1)\n",
        "\n",
        "pool1.shape"
      ]
    },
    {
      "cell_type": "code",
      "execution_count": 69,
      "metadata": {
        "colab": {
          "base_uri": "https://localhost:8080/"
        },
        "id": "Tz4M6x6WNC6w",
        "outputId": "492e49dd-f860-4f9c-d26b-a180fea995b6"
      },
      "outputs": [
        {
          "data": {
            "text/plain": [
              "TensorShape([None, 128, 128, 64])"
            ]
          },
          "execution_count": 69,
          "metadata": {},
          "output_type": "execute_result"
        }
      ],
      "source": [
        "conv2 = Conv2D(filters*4, (3,3), padding = 'same', activation = 'relu', kernel_initializer = 'he_uniform')(pool1)\n",
        "#conv2 = BatchNormalization()(conv2)\n",
        "conv2 = Conv2D(filters*4, (3,3), padding = 'same', activation = 'relu', kernel_initializer = 'he_uniform')(conv2)\n",
        "#conv2 = BatchNormalization()(conv2)\n",
        "pool2 = MaxPooling2D(pool_size = (2,2))(conv2)\n",
        "\n",
        "pool2.shape"
      ]
    },
    {
      "cell_type": "code",
      "execution_count": 70,
      "metadata": {
        "colab": {
          "base_uri": "https://localhost:8080/"
        },
        "id": "0UVxZsjhNM1u",
        "outputId": "662aab05-2bdd-41fe-b06e-a9dc2f1fa5f9"
      },
      "outputs": [
        {
          "data": {
            "text/plain": [
              "TensorShape([None, 64, 64, 128])"
            ]
          },
          "execution_count": 70,
          "metadata": {},
          "output_type": "execute_result"
        }
      ],
      "source": [
        "conv3 = Conv2D(filters*8, (3,3), padding = 'same', activation = 'relu', kernel_initializer = 'he_uniform')(pool2)\n",
        "#conv3 = BatchNormalization()(conv3)\n",
        "conv3 = Conv2D(filters*8, (3,3), padding = 'same', activation = 'relu', kernel_initializer = 'he_uniform')(conv3)\n",
        "#conv3 = BatchNormalization()(conv3)\n",
        "pool3 = MaxPooling2D(pool_size = (2,2))(conv3)\n",
        "\n",
        "pool3.shape"
      ]
    },
    {
      "cell_type": "code",
      "execution_count": 71,
      "metadata": {
        "colab": {
          "base_uri": "https://localhost:8080/"
        },
        "id": "i1zqFChqNSGI",
        "outputId": "9fa85d48-32a6-467b-f485-21254b97b90a"
      },
      "outputs": [
        {
          "data": {
            "text/plain": [
              "TensorShape([None, 32, 32, 256])"
            ]
          },
          "execution_count": 71,
          "metadata": {},
          "output_type": "execute_result"
        }
      ],
      "source": [
        "conv4 = Conv2D(filters*16, (3,3), padding = 'same', activation = 'relu', kernel_initializer = 'he_uniform')(pool3)\n",
        "#conv4 = BatchNormalization()(conv4)\n",
        "conv4 = Conv2D(filters*16, (3,3), padding = 'same', activation = 'relu', kernel_initializer = 'he_uniform')(conv4)\n",
        "#conv4 = BatchNormalization()(conv4)\n",
        "#drop4 = Dropout(0.5)(conv4)\n",
        "pool4 = MaxPooling2D(pool_size = (2,2))(conv4)\n",
        "\n",
        "pool4.shape"
      ]
    },
    {
      "cell_type": "code",
      "execution_count": 72,
      "metadata": {
        "colab": {
          "base_uri": "https://localhost:8080/"
        },
        "id": "5NfICPA5NTrm",
        "outputId": "f6faed19-67dd-4934-c3bc-011dea8bfc55"
      },
      "outputs": [
        {
          "data": {
            "text/plain": [
              "TensorShape([None, 32, 32, 512])"
            ]
          },
          "execution_count": 72,
          "metadata": {},
          "output_type": "execute_result"
        }
      ],
      "source": [
        "conv5 = Conv2D(filters*32, (3,3), padding = 'same', activation = 'relu', kernel_initializer = 'he_uniform')(pool4)\n",
        "conv5 = BatchNormalization()(conv5)\n",
        "conv5 = Conv2D(filters*32, (3,3), padding = 'same', activation = 'relu', kernel_initializer = 'he_uniform')(conv5)\n",
        "conv5 = BatchNormalization()(conv5)\n",
        "#drop5 = Dropout(0.5)(conv5)\n",
        "\n",
        "conv5.shape"
      ]
    },
    {
      "cell_type": "code",
      "execution_count": 73,
      "metadata": {
        "colab": {
          "base_uri": "https://localhost:8080/"
        },
        "id": "WUSzMYrdOsjA",
        "outputId": "b7be8e5f-2db0-4b3b-82f7-ebdd4910f7ce"
      },
      "outputs": [
        {
          "data": {
            "text/plain": [
              "TensorShape([None, 64, 64, 256])"
            ]
          },
          "execution_count": 73,
          "metadata": {},
          "output_type": "execute_result"
        }
      ],
      "source": [
        "convUp = Conv2DTranspose(filters*16, (2,2), strides = (2,2), padding = 'same', activation = 'relu', kernel_initializer = 'he_uniform')(conv5)\n",
        "convUp = Concatenate()([convUp, conv4])\n",
        "convUp = Conv2D(filters*16, (3,3), padding = 'same', activation = 'relu', kernel_initializer = 'he_uniform')(convUp)\n",
        "convUp = Conv2D(filters*16, (3,3), padding = 'same', activation = 'relu', kernel_initializer = 'he_uniform')(convUp)\n",
        "\n",
        "\n",
        "convUp.shape"
      ]
    },
    {
      "cell_type": "code",
      "execution_count": 74,
      "metadata": {
        "colab": {
          "base_uri": "https://localhost:8080/"
        },
        "id": "O7lVwKT3TqkY",
        "outputId": "f1e7bad1-2e13-404b-cf56-200371016a5e"
      },
      "outputs": [
        {
          "data": {
            "text/plain": [
              "TensorShape([None, 128, 128, 128])"
            ]
          },
          "execution_count": 74,
          "metadata": {},
          "output_type": "execute_result"
        }
      ],
      "source": [
        "convUp = Conv2DTranspose(filters*8, (2,2), strides = (2,2), padding = 'same', activation = 'relu', kernel_initializer = 'he_uniform')(convUp)\n",
        "convUp = Concatenate()([convUp, conv3])\n",
        "convUp = Conv2D(filters*8, (3,3), padding = 'same', activation = 'relu', kernel_initializer = 'he_uniform')(convUp)\n",
        "convUp = Conv2D(filters*8, (3,3), padding = 'same', activation = 'relu', kernel_initializer = 'he_uniform')(convUp)\n",
        "\n",
        "\n",
        "convUp.shape"
      ]
    },
    {
      "cell_type": "code",
      "execution_count": 75,
      "metadata": {
        "colab": {
          "base_uri": "https://localhost:8080/"
        },
        "id": "DMg2DDYBTxiY",
        "outputId": "4c52c5e7-9bd7-4b29-a307-44f7937bde72"
      },
      "outputs": [
        {
          "data": {
            "text/plain": [
              "TensorShape([None, 256, 256, 64])"
            ]
          },
          "execution_count": 75,
          "metadata": {},
          "output_type": "execute_result"
        }
      ],
      "source": [
        "convUp = Conv2DTranspose(filters*4, (2,2), strides = (2,2), padding = 'same', activation = 'relu', kernel_initializer = 'he_uniform')(convUp)\n",
        "convUp = Concatenate()([convUp, conv2])\n",
        "convUp = Conv2D(filters*4, (3,3), padding = 'same', activation = 'relu', kernel_initializer = 'he_uniform')(convUp)\n",
        "convUp = Conv2D(filters*4, (3,3), padding = 'same', activation = 'relu', kernel_initializer = 'he_uniform')(convUp)\n",
        "\n",
        "\n",
        "convUp.shape"
      ]
    },
    {
      "cell_type": "code",
      "execution_count": 76,
      "metadata": {
        "colab": {
          "base_uri": "https://localhost:8080/"
        },
        "id": "TVAnG-AKTz1o",
        "outputId": "5943e820-0333-4ba9-c45a-481539f73484"
      },
      "outputs": [
        {
          "data": {
            "text/plain": [
              "TensorShape([None, 512, 512, 32])"
            ]
          },
          "execution_count": 76,
          "metadata": {},
          "output_type": "execute_result"
        }
      ],
      "source": [
        "convUp = Conv2DTranspose(filters*2, (2,2), strides = (2,2), padding = 'same', activation = 'relu', kernel_initializer = 'he_uniform')(convUp)\n",
        "convUp = Concatenate()([convUp, conv1])\n",
        "convUp = Conv2D(filters*2, (3,3), padding = 'same', activation = 'relu', kernel_initializer = 'he_uniform')(convUp)\n",
        "convUp = Conv2D(filters*2, (3,3), padding = 'same', activation = 'relu', kernel_initializer = 'he_uniform')(convUp)\n",
        "\n",
        "\n",
        "convUp.shape"
      ]
    },
    {
      "cell_type": "code",
      "execution_count": 77,
      "metadata": {
        "colab": {
          "base_uri": "https://localhost:8080/"
        },
        "id": "ogL5vwADT-TA",
        "outputId": "b35f9d88-8c4d-48e5-b7ed-7c2e0fdd8ac8"
      },
      "outputs": [
        {
          "name": "stdout",
          "output_type": "stream",
          "text": [
            "Model: \"model_2\"\n",
            "__________________________________________________________________________________________________\n",
            " Layer (type)                   Output Shape         Param #     Connected to                     \n",
            "==================================================================================================\n",
            " input_3 (InputLayer)           [(None, 512, 512, 1  0           []                               \n",
            "                                )]                                                                \n",
            "                                                                                                  \n",
            " conv2d_38 (Conv2D)             (None, 512, 512, 32  320         ['input_3[0][0]']                \n",
            "                                )                                                                 \n",
            "                                                                                                  \n",
            " max_pooling2d_8 (MaxPooling2D)  (None, 256, 256, 32  0          ['conv2d_38[0][0]']              \n",
            "                                )                                                                 \n",
            "                                                                                                  \n",
            " conv2d_40 (Conv2D)             (None, 256, 256, 64  18496       ['max_pooling2d_8[0][0]']        \n",
            "                                )                                                                 \n",
            "                                                                                                  \n",
            " conv2d_41 (Conv2D)             (None, 256, 256, 64  36928       ['conv2d_40[0][0]']              \n",
            "                                )                                                                 \n",
            "                                                                                                  \n",
            " max_pooling2d_9 (MaxPooling2D)  (None, 128, 128, 64  0          ['conv2d_41[0][0]']              \n",
            "                                )                                                                 \n",
            "                                                                                                  \n",
            " conv2d_42 (Conv2D)             (None, 128, 128, 12  73856       ['max_pooling2d_9[0][0]']        \n",
            "                                8)                                                                \n",
            "                                                                                                  \n",
            " conv2d_43 (Conv2D)             (None, 128, 128, 12  147584      ['conv2d_42[0][0]']              \n",
            "                                8)                                                                \n",
            "                                                                                                  \n",
            " max_pooling2d_10 (MaxPooling2D  (None, 64, 64, 128)  0          ['conv2d_43[0][0]']              \n",
            " )                                                                                                \n",
            "                                                                                                  \n",
            " conv2d_44 (Conv2D)             (None, 64, 64, 256)  295168      ['max_pooling2d_10[0][0]']       \n",
            "                                                                                                  \n",
            " conv2d_45 (Conv2D)             (None, 64, 64, 256)  590080      ['conv2d_44[0][0]']              \n",
            "                                                                                                  \n",
            " max_pooling2d_11 (MaxPooling2D  (None, 32, 32, 256)  0          ['conv2d_45[0][0]']              \n",
            " )                                                                                                \n",
            "                                                                                                  \n",
            " conv2d_46 (Conv2D)             (None, 32, 32, 512)  1180160     ['max_pooling2d_11[0][0]']       \n",
            "                                                                                                  \n",
            " batch_normalization_4 (BatchNo  (None, 32, 32, 512)  2048       ['conv2d_46[0][0]']              \n",
            " rmalization)                                                                                     \n",
            "                                                                                                  \n",
            " conv2d_47 (Conv2D)             (None, 32, 32, 512)  2359808     ['batch_normalization_4[0][0]']  \n",
            "                                                                                                  \n",
            " batch_normalization_5 (BatchNo  (None, 32, 32, 512)  2048       ['conv2d_47[0][0]']              \n",
            " rmalization)                                                                                     \n",
            "                                                                                                  \n",
            " conv2d_transpose_8 (Conv2DTran  (None, 64, 64, 256)  524544     ['batch_normalization_5[0][0]']  \n",
            " spose)                                                                                           \n",
            "                                                                                                  \n",
            " concatenate_8 (Concatenate)    (None, 64, 64, 512)  0           ['conv2d_transpose_8[0][0]',     \n",
            "                                                                  'conv2d_45[0][0]']              \n",
            "                                                                                                  \n",
            " conv2d_48 (Conv2D)             (None, 64, 64, 256)  1179904     ['concatenate_8[0][0]']          \n",
            "                                                                                                  \n",
            " conv2d_49 (Conv2D)             (None, 64, 64, 256)  590080      ['conv2d_48[0][0]']              \n",
            "                                                                                                  \n",
            " conv2d_transpose_9 (Conv2DTran  (None, 128, 128, 12  131200     ['conv2d_49[0][0]']              \n",
            " spose)                         8)                                                                \n",
            "                                                                                                  \n",
            " concatenate_9 (Concatenate)    (None, 128, 128, 25  0           ['conv2d_transpose_9[0][0]',     \n",
            "                                6)                                'conv2d_43[0][0]']              \n",
            "                                                                                                  \n",
            " conv2d_50 (Conv2D)             (None, 128, 128, 12  295040      ['concatenate_9[0][0]']          \n",
            "                                8)                                                                \n",
            "                                                                                                  \n",
            " conv2d_51 (Conv2D)             (None, 128, 128, 12  147584      ['conv2d_50[0][0]']              \n",
            "                                8)                                                                \n",
            "                                                                                                  \n",
            " conv2d_transpose_10 (Conv2DTra  (None, 256, 256, 64  32832      ['conv2d_51[0][0]']              \n",
            " nspose)                        )                                                                 \n",
            "                                                                                                  \n",
            " concatenate_10 (Concatenate)   (None, 256, 256, 12  0           ['conv2d_transpose_10[0][0]',    \n",
            "                                8)                                'conv2d_41[0][0]']              \n",
            "                                                                                                  \n",
            " conv2d_52 (Conv2D)             (None, 256, 256, 64  73792       ['concatenate_10[0][0]']         \n",
            "                                )                                                                 \n",
            "                                                                                                  \n",
            " conv2d_53 (Conv2D)             (None, 256, 256, 64  36928       ['conv2d_52[0][0]']              \n",
            "                                )                                                                 \n",
            "                                                                                                  \n",
            " conv2d_transpose_11 (Conv2DTra  (None, 512, 512, 32  8224       ['conv2d_53[0][0]']              \n",
            " nspose)                        )                                                                 \n",
            "                                                                                                  \n",
            " concatenate_11 (Concatenate)   (None, 512, 512, 64  0           ['conv2d_transpose_11[0][0]',    \n",
            "                                )                                 'conv2d_38[0][0]']              \n",
            "                                                                                                  \n",
            " conv2d_54 (Conv2D)             (None, 512, 512, 32  18464       ['concatenate_11[0][0]']         \n",
            "                                )                                                                 \n",
            "                                                                                                  \n",
            " conv2d_55 (Conv2D)             (None, 512, 512, 32  9248        ['conv2d_54[0][0]']              \n",
            "                                )                                                                 \n",
            "                                                                                                  \n",
            " conv2d_56 (Conv2D)             (None, 512, 512, 1)  33          ['conv2d_55[0][0]']              \n",
            "                                                                                                  \n",
            "==================================================================================================\n",
            "Total params: 7,754,369\n",
            "Trainable params: 7,752,321\n",
            "Non-trainable params: 2,048\n",
            "__________________________________________________________________________________________________\n"
          ]
        }
      ],
      "source": [
        "output = Conv2D(1, (1,1), activation = 'sigmoid', kernel_initializer = 'he_uniform')(convUp)\n",
        "output.shape\n",
        "\n",
        "model = Model(inputs = [input], outputs = [output])\n",
        "#Now using MeanIoU instead of accuracy\n",
        "'''\n",
        "model.compile(optimizer = tf.keras.optimizers.Adam(learning_rate=1e-3), \n",
        "              loss = 'binary_crossentropy', \n",
        "              metrics = ['accuracy', \n",
        "                         MeanIoU(num_classes=2, name = 'MeanIoU', ignore_class=0)])\n",
        "'''\n",
        "#Using only dice\n",
        "model.compile(optimizer = tf.keras.optimizers.Adam(learning_rate=1e-3), \n",
        "              loss = [dice_loss], #loss = [dice_loss]\n",
        "              metrics = [dice_coefficient])\n",
        "model.summary()"
      ]
    },
    {
      "cell_type": "code",
      "execution_count": 78,
      "metadata": {
        "colab": {
          "base_uri": "https://localhost:8080/",
          "height": 1000
        },
        "id": "oPsoVYFW4ovV",
        "outputId": "739736df-ca08-4bfc-cbac-86c1a807e08f"
      },
      "outputs": [
        {
          "name": "stdout",
          "output_type": "stream",
          "text": [
            "You must install pydot (`pip install pydot`) and install graphviz (see instructions at https://graphviz.gitlab.io/download/) for plot_model to work.\n"
          ]
        }
      ],
      "source": [
        "tf.keras.utils.plot_model(model, \"model.png\")"
      ]
    },
    {
      "attachments": {},
      "cell_type": "markdown",
      "metadata": {
        "id": "X13jrw43PMef"
      },
      "source": [
        "#3 Treinando a rede"
      ]
    },
    {
      "cell_type": "code",
      "execution_count": 79,
      "metadata": {
        "colab": {
          "base_uri": "https://localhost:8080/",
          "height": 831
        },
        "id": "bwPxrg0ihWHb",
        "outputId": "0c337aa5-e360-45b6-e9a8-691c67c06409"
      },
      "outputs": [
        {
          "name": "stdout",
          "output_type": "stream",
          "text": [
            "Epoch 1/50\n",
            "19/19 [==============================] - ETA: 0s - loss: 0.2543 - dice_coefficient: 0.7457 "
          ]
        },
        {
          "ename": "ValueError",
          "evalue": "Data cardinality is ambiguous:\n  x sizes: 50\n  y sizes: 148\nMake sure all arrays contain the same number of samples.",
          "output_type": "error",
          "traceback": [
            "\u001b[0;31m---------------------------------------------------------------------------\u001b[0m",
            "\u001b[0;31mValueError\u001b[0m                                Traceback (most recent call last)",
            "Cell \u001b[0;32mIn[79], line 3\u001b[0m\n\u001b[1;32m      1\u001b[0m checkpoint \u001b[39m=\u001b[39m ModelCheckpoint(filepath\u001b[39m=\u001b[39m\u001b[39m'\u001b[39m\u001b[39mmodel.h5\u001b[39m\u001b[39m'\u001b[39m, save_freq \u001b[39m=\u001b[39m \u001b[39m'\u001b[39m\u001b[39mepoch\u001b[39m\u001b[39m'\u001b[39m)\n\u001b[1;32m      2\u001b[0m \u001b[39m#model.load_weights(\"model.h5\")\u001b[39;00m\n\u001b[0;32m----> 3\u001b[0m history \u001b[39m=\u001b[39m model\u001b[39m.\u001b[39;49mfit(X, y, epochs\u001b[39m=\u001b[39;49m\u001b[39m50\u001b[39;49m, batch_size \u001b[39m=\u001b[39;49m \u001b[39m8\u001b[39;49m, callbacks \u001b[39m=\u001b[39;49m [checkpoint], validation_data\u001b[39m=\u001b[39;49m(X_val, y_val))\n",
            "File \u001b[0;32m~/anaconda3/envs/tensorflow2/lib/python3.10/site-packages/keras/utils/traceback_utils.py:70\u001b[0m, in \u001b[0;36mfilter_traceback.<locals>.error_handler\u001b[0;34m(*args, **kwargs)\u001b[0m\n\u001b[1;32m     67\u001b[0m     filtered_tb \u001b[39m=\u001b[39m _process_traceback_frames(e\u001b[39m.\u001b[39m__traceback__)\n\u001b[1;32m     68\u001b[0m     \u001b[39m# To get the full stack trace, call:\u001b[39;00m\n\u001b[1;32m     69\u001b[0m     \u001b[39m# `tf.debugging.disable_traceback_filtering()`\u001b[39;00m\n\u001b[0;32m---> 70\u001b[0m     \u001b[39mraise\u001b[39;00m e\u001b[39m.\u001b[39mwith_traceback(filtered_tb) \u001b[39mfrom\u001b[39;00m \u001b[39mNone\u001b[39m\n\u001b[1;32m     71\u001b[0m \u001b[39mfinally\u001b[39;00m:\n\u001b[1;32m     72\u001b[0m     \u001b[39mdel\u001b[39;00m filtered_tb\n",
            "File \u001b[0;32m~/anaconda3/envs/tensorflow2/lib/python3.10/site-packages/keras/engine/data_adapter.py:1848\u001b[0m, in \u001b[0;36m_check_data_cardinality\u001b[0;34m(data)\u001b[0m\n\u001b[1;32m   1841\u001b[0m     msg \u001b[39m+\u001b[39m\u001b[39m=\u001b[39m \u001b[39m\"\u001b[39m\u001b[39m  \u001b[39m\u001b[39m{}\u001b[39;00m\u001b[39m sizes: \u001b[39m\u001b[39m{}\u001b[39;00m\u001b[39m\\n\u001b[39;00m\u001b[39m\"\u001b[39m\u001b[39m.\u001b[39mformat(\n\u001b[1;32m   1842\u001b[0m         label,\n\u001b[1;32m   1843\u001b[0m         \u001b[39m\"\u001b[39m\u001b[39m, \u001b[39m\u001b[39m\"\u001b[39m\u001b[39m.\u001b[39mjoin(\n\u001b[1;32m   1844\u001b[0m             \u001b[39mstr\u001b[39m(i\u001b[39m.\u001b[39mshape[\u001b[39m0\u001b[39m]) \u001b[39mfor\u001b[39;00m i \u001b[39min\u001b[39;00m tf\u001b[39m.\u001b[39mnest\u001b[39m.\u001b[39mflatten(single_data)\n\u001b[1;32m   1845\u001b[0m         ),\n\u001b[1;32m   1846\u001b[0m     )\n\u001b[1;32m   1847\u001b[0m msg \u001b[39m+\u001b[39m\u001b[39m=\u001b[39m \u001b[39m\"\u001b[39m\u001b[39mMake sure all arrays contain the same number of samples.\u001b[39m\u001b[39m\"\u001b[39m\n\u001b[0;32m-> 1848\u001b[0m \u001b[39mraise\u001b[39;00m \u001b[39mValueError\u001b[39;00m(msg)\n",
            "\u001b[0;31mValueError\u001b[0m: Data cardinality is ambiguous:\n  x sizes: 50\n  y sizes: 148\nMake sure all arrays contain the same number of samples."
          ]
        }
      ],
      "source": [
        "checkpoint = ModelCheckpoint(filepath='model.h5', save_freq = 'epoch')\n",
        "#model.load_weights(\"model.h5\")\n",
        "history = model.fit(X, y, epochs=50, batch_size = 8, callbacks = [checkpoint], validation_data=(X_val, y_val))"
      ]
    },
    {
      "attachments": {},
      "cell_type": "markdown",
      "metadata": {
        "id": "upRZFcawPPzg"
      },
      "source": [
        "#4 Testes"
      ]
    },
    {
      "cell_type": "code",
      "execution_count": null,
      "metadata": {
        "colab": {
          "base_uri": "https://localhost:8080/"
        },
        "id": "NV9cVNS0QFLT",
        "outputId": "9844483c-bd71-42c2-88d6-ef1596b88703"
      },
      "outputs": [
        {
          "name": "stdout",
          "output_type": "stream",
          "text": [
            "1/1 [==============================] - 0s 355ms/step\n"
          ]
        }
      ],
      "source": [
        "#model = tf.keras.models.load_model('model.31.h5')\n",
        "a = X_val[0:10]\n",
        "test = model.predict(a)\n",
        "#X_val.shape"
      ]
    },
    {
      "cell_type": "code",
      "execution_count": null,
      "metadata": {
        "id": "hUPBVTWo4pxn"
      },
      "outputs": [],
      "source": [
        "image_id = 7\n",
        "\n",
        "f, axarr = plt.subplots(2,2)\n",
        "axarr[0,0].imshow(X_val[image_id], cmap = 'gray')\n",
        "axarr[0,1].imshow(y_val[image_id,:,:], cmap = 'gray')\n",
        "axarr[1,0].imshow(X_val[image_id], cmap = 'gray')\n",
        "axarr[1,1].imshow(test[image_id,:,:], cmap = 'gray')\n",
        "\n",
        "plt.show()"
      ]
    },
    {
      "cell_type": "code",
      "execution_count": null,
      "metadata": {
        "id": "-blaW2pPgxRf"
      },
      "outputs": [],
      "source": [
        "import pickle\n",
        "\n",
        "\n",
        "with open('trainHistoryDict', 'wb') as file_pi:\n",
        "    pickle.dump(history.history, file_pi)"
      ]
    }
  ],
  "metadata": {
    "accelerator": "GPU",
    "colab": {
      "collapsed_sections": [
        "EDTBA-oRPDLv",
        "-eBKPfsJE8hv"
      ],
      "provenance": []
    },
    "gpuClass": "standard",
    "kernelspec": {
      "display_name": "Python 3",
      "name": "python3"
    },
    "language_info": {
      "codemirror_mode": {
        "name": "ipython",
        "version": 3
      },
      "file_extension": ".py",
      "mimetype": "text/x-python",
      "name": "python",
      "nbconvert_exporter": "python",
      "pygments_lexer": "ipython3",
      "version": "3.10.10"
    }
  },
  "nbformat": 4,
  "nbformat_minor": 0
}

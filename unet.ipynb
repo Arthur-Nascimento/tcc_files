{
  "cells": [
    {
      "cell_type": "code",
      "execution_count": 1,
      "metadata": {
        "id": "mG3TzmFgIP3V"
      },
      "outputs": [
        {
          "name": "stderr",
          "output_type": "stream",
          "text": [
            "2023-06-05 17:12:02.429795: I tensorflow/core/platform/cpu_feature_guard.cc:193] This TensorFlow binary is optimized with oneAPI Deep Neural Network Library (oneDNN) to use the following CPU instructions in performance-critical operations:  SSE4.1 SSE4.2 AVX AVX2 FMA\n",
            "To enable them in other operations, rebuild TensorFlow with the appropriate compiler flags.\n"
          ]
        }
      ],
      "source": [
        "from tensorflow.keras.layers import Conv2D, MaxPooling2D, Input, Conv2DTranspose, Concatenate, concatenate, BatchNormalization, Dropout\n",
        "from tensorflow.keras.models import Model\n",
        "from tensorflow.keras.metrics import MeanIoU\n",
        "from tensorflow.keras.callbacks import ModelCheckpoint\n",
        "from tensorflow.keras import backend as K \n",
        "import tensorflow as tf"
      ]
    },
    {
      "cell_type": "code",
      "execution_count": 2,
      "metadata": {},
      "outputs": [],
      "source": [
        "#General variables\n",
        "\n",
        "simple = False\n",
        "train_amount = 0.75\n",
        "filters = 16\n",
        "classes = 2"
      ]
    },
    {
      "attachments": {},
      "cell_type": "markdown",
      "metadata": {
        "id": "EDTBA-oRPDLv"
      },
      "source": [
        "#1 Importando Dataset"
      ]
    },
    {
      "cell_type": "code",
      "execution_count": 3,
      "metadata": {
        "id": "xcpYYcGDVHMk"
      },
      "outputs": [],
      "source": [
        "#Data\n",
        "import numpy as np\n",
        "import os\n",
        "import cv2\n",
        "from tensorflow.keras.utils import image_dataset_from_directory"
      ]
    },
    {
      "cell_type": "code",
      "execution_count": 4,
      "metadata": {
        "id": "YuMHf3VbgFeK"
      },
      "outputs": [
        {
          "name": "stdout",
          "output_type": "stream",
          "text": [
            "unzip:  cannot find or open data.zip, data.zip.zip or data.zip.ZIP.\n"
          ]
        },
        {
          "ename": "FileNotFoundError",
          "evalue": "[Errno 2] No such file or directory: 'img/'",
          "output_type": "error",
          "traceback": [
            "\u001b[0;31m---------------------------------------------------------------------------\u001b[0m",
            "\u001b[0;31mFileNotFoundError\u001b[0m                         Traceback (most recent call last)",
            "Cell \u001b[0;32mIn[4], line 5\u001b[0m\n\u001b[1;32m      2\u001b[0m \u001b[39mif\u001b[39;00m \u001b[39mnot\u001b[39;00m os\u001b[39m.\u001b[39mpath\u001b[39m.\u001b[39misdir(\u001b[39m\"\u001b[39m\u001b[39mmask\u001b[39m\u001b[39m\"\u001b[39m):\n\u001b[1;32m      3\u001b[0m   get_ipython()\u001b[39m.\u001b[39msystem(\u001b[39m'\u001b[39m\u001b[39munzip data.zip\u001b[39m\u001b[39m'\u001b[39m)\n\u001b[0;32m----> 5\u001b[0m input_path \u001b[39m=\u001b[39m os\u001b[39m.\u001b[39;49mlistdir(\u001b[39m\"\u001b[39;49m\u001b[39mimg/\u001b[39;49m\u001b[39m\"\u001b[39;49m)\n\u001b[1;32m      6\u001b[0m masks \u001b[39m=\u001b[39m []\n\u001b[1;32m      7\u001b[0m imgs \u001b[39m=\u001b[39m []\n",
            "\u001b[0;31mFileNotFoundError\u001b[0m: [Errno 2] No such file or directory: 'img/'"
          ]
        }
      ],
      "source": [
        "if simple:\n",
        "  if not os.path.isdir(\"mask\"):\n",
        "    !unzip data.zip\n",
        "\n",
        "  input_path = os.listdir(\"img/\")\n",
        "  masks = []\n",
        "  imgs = []\n",
        "  norm = 0\n",
        "  vali = 0\n",
        "  for file in input_path:\n",
        "      img_path = os.path.join(\"img/\", file)\n",
        "      mask_path = os.path.join(\"mask/\", file)\n",
        "      img = cv2.cvtColor(cv2.imread(img_path), cv2.COLOR_BGR2GRAY)\n",
        "      mask = cv2.cvtColor(cv2.imread(mask_path), cv2.COLOR_BGR2GRAY)\n",
        "      #img = cv2.resize(img, (512, 512))\n",
        "      #mask = cv2.resize(mask, (512, 512))\n",
        "      img = np.asarray(img)\n",
        "      mask = np.asarray(mask)\n",
        "      imgs.append(img)\n",
        "      masks.append(mask)\n",
        "\n",
        "\n",
        "  total_samples = imgs.shape[0]\n",
        "  toTrain = int(train_amount * total_samples)\n",
        "  X = imgs[:,:,:toTrain]\n",
        "  X_val = imgs[:,:,toTrain:]\n",
        "  y = masks[:,:,:toTrain]\n",
        "  y_val = masks[:,:,toTrain:]\n",
        "\n",
        "else:\n",
        "  import nibabel as nib\n",
        "\n",
        "  datasets_path = \"./datasets/tomo\"\n",
        "  imgs_path = os.path.join(datasets_path, \"img/volume_pt1\")\n",
        "  masks_path = os.path.join(datasets_path, \"mask\")\n",
        "\n",
        "  volumes_num = 1\n",
        "  total_volumes = volumes_num*2\n",
        "\n",
        "\n",
        "  images_path = [f\"{imgs_path}/volume-{i}.nii\" for i in range(total_volumes)]\n",
        "  masks_path = [f\"{masks_path}/segmentation-{i}.nii\" for i in range(total_volumes)]\n",
        "  imgs = []\n",
        "  masks = []\n",
        "  for file in images_path:\n",
        "      img = nib.load(file).get_fdata()\n",
        "      for i in range(img.shape[2]):\n",
        "          imgs.append(img[:,:,i])\n",
        "  imgs = np.array(imgs)\n",
        "\n",
        "\n",
        "  for file in masks_path:\n",
        "      img = nib.load(file).get_fdata()\n",
        "      for i in range(img.shape[2]):\n",
        "          masks.append(img[:,:,i])\n",
        "  masks = np.array(masks)\n",
        "  print(masks.shape)\n",
        "\n",
        "  total_samples = imgs.shape[0]\n",
        "  print(total_samples)\n",
        "  toTrain = int(train_amount * total_samples)\n",
        "  toVal = total_samples - toTrain\n",
        "\n",
        "  X = imgs[:toTrain,:,:]\n",
        "  X_val = imgs[toTrain:,:,:]\n",
        "  y = masks[:toTrain,:,:]\n",
        "  y_val = masks[toTrain:,:,:]\n",
        "\n",
        "  print(X.shape, X_val.shape, y.shape, y_val.shape)"
      ]
    },
    {
      "cell_type": "code",
      "execution_count": null,
      "metadata": {
        "colab": {
          "base_uri": "https://localhost:8080/",
          "height": 435
        },
        "id": "TqcqDoTMw59l",
        "outputId": "f14e0a27-4cbb-4234-f15a-19c243ec43f7"
      },
      "outputs": [
        {
          "data": {
            "image/png": "[encoded data removed]",
            "text/plain": [
              "<Figure size 640x480 with 4 Axes>"
            ]
          },
          "metadata": {},
          "output_type": "display_data"
        }
      ],
      "source": [
        "%matplotlib inline\n",
        "from matplotlib import pyplot as plt\n",
        "f, axarr = plt.subplots(2,2)\n",
        "axarr[0,0].imshow(X[1], cmap = 'gray')\n",
        "axarr[0,1].imshow(y[1,:,:], cmap = 'gray')\n",
        "axarr[1,0].imshow(X_val[1], cmap = 'gray')\n",
        "axarr[1,1].imshow(y_val[1,:,:], cmap = 'gray')\n",
        "\n",
        "plt.show()"
      ]
    },
    {
      "attachments": {},
      "cell_type": "markdown",
      "metadata": {
        "id": "-eBKPfsJE8hv"
      },
      "source": [
        "#2 Criando a arquitetura"
      ]
    },
    {
      "cell_type": "code",
      "execution_count": null,
      "metadata": {
        "id": "HZ68X7Ba1CPi"
      },
      "outputs": [],
      "source": [
        "#Definindo dice coeficiente\n",
        "def dice_coefficient(y_true, y_pred, smooth=1):\n",
        "    num_classes = K.int_shape(y_pred)[-1]\n",
        "    dice = 0\n",
        "    for index in range(num_classes):    \n",
        "        y_true_class = y_true[..., index]\n",
        "        y_pred_class = y_pred[..., index]\n",
        "        y_true_class = K.cast(y_true_class, dtype='float32')  # Convert y_true to float32\n",
        "        intersection = K.sum(K.abs(y_true_class * y_pred_class), axis=-1)\n",
        "        union = K.sum(y_true_class, axis=-1) + K.sum(y_pred_class, axis=-1)\n",
        "        dice = (2.0 * intersection + smooth) / (union + smooth)\n",
        "    return dice\n",
        "\n",
        "def dice_loss(y_true, y_pred):\n",
        "    loss = 1 - dice_coefficient(y_true, y_pred)\n",
        "    return loss"
      ]
    },
    {
      "cell_type": "code",
      "execution_count": null,
      "metadata": {
        "colab": {
          "base_uri": "https://localhost:8080/"
        },
        "id": "GzVrkVWYKVSJ",
        "outputId": "410b1371-4fff-49e8-a882-05fb2782fa27"
      },
      "outputs": [
        {
          "data": {
            "text/plain": [
              "TensorShape([None, 256, 256, 32])"
            ]
          },
          "execution_count": 87,
          "metadata": {},
          "output_type": "execute_result"
        }
      ],
      "source": [
        "input = Input((512, 512,1))\n",
        "\n",
        "conv1 = Conv2D(filters*2, (3,3), padding = 'same', activation = 'relu', kernel_initializer = 'he_uniform')(input)\n",
        "# Including batch normalization as possible fix to all black prediction\n",
        "#conv1 = BatchNormalization()(conv1)\n",
        "conv1_ = Conv2D(filters*2, (3,3), padding = 'same', activation = 'relu', kernel_initializer = 'he_uniform')(conv1)\n",
        "#conv1 = BatchNormalization()(conv1)\n",
        "pool1 = MaxPooling2D(pool_size = (2,2))(conv1)\n",
        "\n",
        "pool1.shape"
      ]
    },
    {
      "cell_type": "code",
      "execution_count": null,
      "metadata": {
        "colab": {
          "base_uri": "https://localhost:8080/"
        },
        "id": "Tz4M6x6WNC6w",
        "outputId": "492e49dd-f860-4f9c-d26b-a180fea995b6"
      },
      "outputs": [
        {
          "data": {
            "text/plain": [
              "TensorShape([None, 128, 128, 64])"
            ]
          },
          "execution_count": 88,
          "metadata": {},
          "output_type": "execute_result"
        }
      ],
      "source": [
        "conv2 = Conv2D(filters*4, (3,3), padding = 'same', activation = 'relu', kernel_initializer = 'he_uniform')(pool1)\n",
        "#conv2 = BatchNormalization()(conv2)\n",
        "conv2 = Conv2D(filters*4, (3,3), padding = 'same', activation = 'relu', kernel_initializer = 'he_uniform')(conv2)\n",
        "#conv2 = BatchNormalization()(conv2)\n",
        "pool2 = MaxPooling2D(pool_size = (2,2))(conv2)\n",
        "\n",
        "pool2.shape"
      ]
    },
    {
      "cell_type": "code",
      "execution_count": null,
      "metadata": {
        "colab": {
          "base_uri": "https://localhost:8080/"
        },
        "id": "0UVxZsjhNM1u",
        "outputId": "662aab05-2bdd-41fe-b06e-a9dc2f1fa5f9"
      },
      "outputs": [
        {
          "data": {
            "text/plain": [
              "TensorShape([None, 64, 64, 128])"
            ]
          },
          "execution_count": 89,
          "metadata": {},
          "output_type": "execute_result"
        }
      ],
      "source": [
        "conv3 = Conv2D(filters*8, (3,3), padding = 'same', activation = 'relu', kernel_initializer = 'he_uniform')(pool2)\n",
        "#conv3 = BatchNormalization()(conv3)\n",
        "conv3 = Conv2D(filters*8, (3,3), padding = 'same', activation = 'relu', kernel_initializer = 'he_uniform')(conv3)\n",
        "#conv3 = BatchNormalization()(conv3)\n",
        "pool3 = MaxPooling2D(pool_size = (2,2))(conv3)\n",
        "\n",
        "pool3.shape"
      ]
    },
    {
      "cell_type": "code",
      "execution_count": null,
      "metadata": {
        "colab": {
          "base_uri": "https://localhost:8080/"
        },
        "id": "i1zqFChqNSGI",
        "outputId": "9fa85d48-32a6-467b-f485-21254b97b90a"
      },
      "outputs": [
        {
          "data": {
            "text/plain": [
              "TensorShape([None, 32, 32, 256])"
            ]
          },
          "execution_count": 90,
          "metadata": {},
          "output_type": "execute_result"
        }
      ],
      "source": [
        "conv4 = Conv2D(filters*16, (3,3), padding = 'same', activation = 'relu', kernel_initializer = 'he_uniform')(pool3)\n",
        "#conv4 = BatchNormalization()(conv4)\n",
        "conv4 = Conv2D(filters*16, (3,3), padding = 'same', activation = 'relu', kernel_initializer = 'he_uniform')(conv4)\n",
        "#conv4 = BatchNormalization()(conv4)\n",
        "#drop4 = Dropout(0.5)(conv4)\n",
        "pool4 = MaxPooling2D(pool_size = (2,2))(conv4)\n",
        "\n",
        "pool4.shape"
      ]
    },
    {
      "cell_type": "code",
      "execution_count": null,
      "metadata": {
        "colab": {
          "base_uri": "https://localhost:8080/"
        },
        "id": "5NfICPA5NTrm",
        "outputId": "f6faed19-67dd-4934-c3bc-011dea8bfc55"
      },
      "outputs": [
        {
          "data": {
            "text/plain": [
              "TensorShape([None, 32, 32, 512])"
            ]
          },
          "execution_count": 91,
          "metadata": {},
          "output_type": "execute_result"
        }
      ],
      "source": [
        "conv5 = Conv2D(filters*32, (3,3), padding = 'same', activation = 'relu', kernel_initializer = 'he_uniform')(pool4)\n",
        "conv5 = BatchNormalization()(conv5)\n",
        "conv5 = Conv2D(filters*32, (3,3), padding = 'same', activation = 'relu', kernel_initializer = 'he_uniform')(conv5)\n",
        "conv5 = BatchNormalization()(conv5)\n",
        "#drop5 = Dropout(0.5)(conv5)\n",
        "\n",
        "conv5.shape"
      ]
    },
    {
      "cell_type": "code",
      "execution_count": null,
      "metadata": {
        "colab": {
          "base_uri": "https://localhost:8080/"
        },
        "id": "WUSzMYrdOsjA",
        "outputId": "b7be8e5f-2db0-4b3b-82f7-ebdd4910f7ce"
      },
      "outputs": [
        {
          "data": {
            "text/plain": [
              "TensorShape([None, 64, 64, 256])"
            ]
          },
          "execution_count": 92,
          "metadata": {},
          "output_type": "execute_result"
        }
      ],
      "source": [
        "convUp = Conv2DTranspose(filters*16, (2,2), strides = (2,2), padding = 'same', activation = 'relu', kernel_initializer = 'he_uniform')(conv5)\n",
        "convUp = Concatenate()([convUp, conv4])\n",
        "convUp = Conv2D(filters*16, (3,3), padding = 'same', activation = 'relu', kernel_initializer = 'he_uniform')(convUp)\n",
        "convUp = Conv2D(filters*16, (3,3), padding = 'same', activation = 'relu', kernel_initializer = 'he_uniform')(convUp)\n",
        "\n",
        "\n",
        "convUp.shape"
      ]
    },
    {
      "cell_type": "code",
      "execution_count": null,
      "metadata": {
        "colab": {
          "base_uri": "https://localhost:8080/"
        },
        "id": "O7lVwKT3TqkY",
        "outputId": "f1e7bad1-2e13-404b-cf56-200371016a5e"
      },
      "outputs": [
        {
          "data": {
            "text/plain": [
              "TensorShape([None, 128, 128, 128])"
            ]
          },
          "execution_count": 93,
          "metadata": {},
          "output_type": "execute_result"
        }
      ],
      "source": [
        "convUp = Conv2DTranspose(filters*8, (2,2), strides = (2,2), padding = 'same', activation = 'relu', kernel_initializer = 'he_uniform')(convUp)\n",
        "convUp = Concatenate()([convUp, conv3])\n",
        "convUp = Conv2D(filters*8, (3,3), padding = 'same', activation = 'relu', kernel_initializer = 'he_uniform')(convUp)\n",
        "convUp = Conv2D(filters*8, (3,3), padding = 'same', activation = 'relu', kernel_initializer = 'he_uniform')(convUp)\n",
        "\n",
        "\n",
        "convUp.shape"
      ]
    },
    {
      "cell_type": "code",
      "execution_count": null,
      "metadata": {
        "colab": {
          "base_uri": "https://localhost:8080/"
        },
        "id": "DMg2DDYBTxiY",
        "outputId": "4c52c5e7-9bd7-4b29-a307-44f7937bde72"
      },
      "outputs": [
        {
          "data": {
            "text/plain": [
              "TensorShape([None, 256, 256, 64])"
            ]
          },
          "execution_count": 94,
          "metadata": {},
          "output_type": "execute_result"
        }
      ],
      "source": [
        "convUp = Conv2DTranspose(filters*4, (2,2), strides = (2,2), padding = 'same', activation = 'relu', kernel_initializer = 'he_uniform')(convUp)\n",
        "convUp = Concatenate()([convUp, conv2])\n",
        "convUp = Conv2D(filters*4, (3,3), padding = 'same', activation = 'relu', kernel_initializer = 'he_uniform')(convUp)\n",
        "convUp = Conv2D(filters*4, (3,3), padding = 'same', activation = 'relu', kernel_initializer = 'he_uniform')(convUp)\n",
        "\n",
        "\n",
        "convUp.shape"
      ]
    },
    {
      "cell_type": "code",
      "execution_count": null,
      "metadata": {
        "colab": {
          "base_uri": "https://localhost:8080/"
        },
        "id": "TVAnG-AKTz1o",
        "outputId": "5943e820-0333-4ba9-c45a-481539f73484"
      },
      "outputs": [
        {
          "data": {
            "text/plain": [
              "TensorShape([None, 512, 512, 32])"
            ]
          },
          "execution_count": 95,
          "metadata": {},
          "output_type": "execute_result"
        }
      ],
      "source": [
        "convUp = Conv2DTranspose(filters*2, (2,2), strides = (2,2), padding = 'same', activation = 'relu', kernel_initializer = 'he_uniform')(convUp)\n",
        "convUp = Concatenate()([convUp, conv1])\n",
        "convUp = Conv2D(filters*2, (3,3), padding = 'same', activation = 'relu', kernel_initializer = 'he_uniform')(convUp)\n",
        "convUp = Conv2D(filters*2, (3,3), padding = 'same', activation = 'relu', kernel_initializer = 'he_uniform')(convUp)\n",
        "\n",
        "\n",
        "convUp.shape"
      ]
    },
    {
      "cell_type": "code",
      "execution_count": null,
      "metadata": {
        "colab": {
          "base_uri": "https://localhost:8080/"
        },
        "id": "ogL5vwADT-TA",
        "outputId": "b35f9d88-8c4d-48e5-b7ed-7c2e0fdd8ac8"
      },
      "outputs": [
        {
          "name": "stdout",
          "output_type": "stream",
          "text": [
            "Model: \"model_3\"\n",
            "__________________________________________________________________________________________________\n",
            " Layer (type)                   Output Shape         Param #     Connected to                     \n",
            "==================================================================================================\n",
            " input_4 (InputLayer)           [(None, 512, 512, 1  0           []                               \n",
            "                                )]                                                                \n",
            "                                                                                                  \n",
            " conv2d_57 (Conv2D)             (None, 512, 512, 32  320         ['input_4[0][0]']                \n",
            "                                )                                                                 \n",
            "                                                                                                  \n",
            " max_pooling2d_12 (MaxPooling2D  (None, 256, 256, 32  0          ['conv2d_57[0][0]']              \n",
            " )                              )                                                                 \n",
            "                                                                                                  \n",
            " conv2d_59 (Conv2D)             (None, 256, 256, 64  18496       ['max_pooling2d_12[0][0]']       \n",
            "                                )                                                                 \n",
            "                                                                                                  \n",
            " conv2d_60 (Conv2D)             (None, 256, 256, 64  36928       ['conv2d_59[0][0]']              \n",
            "                                )                                                                 \n",
            "                                                                                                  \n",
            " max_pooling2d_13 (MaxPooling2D  (None, 128, 128, 64  0          ['conv2d_60[0][0]']              \n",
            " )                              )                                                                 \n",
            "                                                                                                  \n",
            " conv2d_61 (Conv2D)             (None, 128, 128, 12  73856       ['max_pooling2d_13[0][0]']       \n",
            "                                8)                                                                \n",
            "                                                                                                  \n",
            " conv2d_62 (Conv2D)             (None, 128, 128, 12  147584      ['conv2d_61[0][0]']              \n",
            "                                8)                                                                \n",
            "                                                                                                  \n",
            " max_pooling2d_14 (MaxPooling2D  (None, 64, 64, 128)  0          ['conv2d_62[0][0]']              \n",
            " )                                                                                                \n",
            "                                                                                                  \n",
            " conv2d_63 (Conv2D)             (None, 64, 64, 256)  295168      ['max_pooling2d_14[0][0]']       \n",
            "                                                                                                  \n",
            " conv2d_64 (Conv2D)             (None, 64, 64, 256)  590080      ['conv2d_63[0][0]']              \n",
            "                                                                                                  \n",
            " max_pooling2d_15 (MaxPooling2D  (None, 32, 32, 256)  0          ['conv2d_64[0][0]']              \n",
            " )                                                                                                \n",
            "                                                                                                  \n",
            " conv2d_65 (Conv2D)             (None, 32, 32, 512)  1180160     ['max_pooling2d_15[0][0]']       \n",
            "                                                                                                  \n",
            " batch_normalization_6 (BatchNo  (None, 32, 32, 512)  2048       ['conv2d_65[0][0]']              \n",
            " rmalization)                                                                                     \n",
            "                                                                                                  \n",
            " conv2d_66 (Conv2D)             (None, 32, 32, 512)  2359808     ['batch_normalization_6[0][0]']  \n",
            "                                                                                                  \n",
            " batch_normalization_7 (BatchNo  (None, 32, 32, 512)  2048       ['conv2d_66[0][0]']              \n",
            " rmalization)                                                                                     \n",
            "                                                                                                  \n",
            " conv2d_transpose_12 (Conv2DTra  (None, 64, 64, 256)  524544     ['batch_normalization_7[0][0]']  \n",
            " nspose)                                                                                          \n",
            "                                                                                                  \n",
            " concatenate_12 (Concatenate)   (None, 64, 64, 512)  0           ['conv2d_transpose_12[0][0]',    \n",
            "                                                                  'conv2d_64[0][0]']              \n",
            "                                                                                                  \n",
            " conv2d_67 (Conv2D)             (None, 64, 64, 256)  1179904     ['concatenate_12[0][0]']         \n",
            "                                                                                                  \n",
            " conv2d_68 (Conv2D)             (None, 64, 64, 256)  590080      ['conv2d_67[0][0]']              \n",
            "                                                                                                  \n",
            " conv2d_transpose_13 (Conv2DTra  (None, 128, 128, 12  131200     ['conv2d_68[0][0]']              \n",
            " nspose)                        8)                                                                \n",
            "                                                                                                  \n",
            " concatenate_13 (Concatenate)   (None, 128, 128, 25  0           ['conv2d_transpose_13[0][0]',    \n",
            "                                6)                                'conv2d_62[0][0]']              \n",
            "                                                                                                  \n",
            " conv2d_69 (Conv2D)             (None, 128, 128, 12  295040      ['concatenate_13[0][0]']         \n",
            "                                8)                                                                \n",
            "                                                                                                  \n",
            " conv2d_70 (Conv2D)             (None, 128, 128, 12  147584      ['conv2d_69[0][0]']              \n",
            "                                8)                                                                \n",
            "                                                                                                  \n",
            " conv2d_transpose_14 (Conv2DTra  (None, 256, 256, 64  32832      ['conv2d_70[0][0]']              \n",
            " nspose)                        )                                                                 \n",
            "                                                                                                  \n",
            " concatenate_14 (Concatenate)   (None, 256, 256, 12  0           ['conv2d_transpose_14[0][0]',    \n",
            "                                8)                                'conv2d_60[0][0]']              \n",
            "                                                                                                  \n",
            " conv2d_71 (Conv2D)             (None, 256, 256, 64  73792       ['concatenate_14[0][0]']         \n",
            "                                )                                                                 \n",
            "                                                                                                  \n",
            " conv2d_72 (Conv2D)             (None, 256, 256, 64  36928       ['conv2d_71[0][0]']              \n",
            "                                )                                                                 \n",
            "                                                                                                  \n",
            " conv2d_transpose_15 (Conv2DTra  (None, 512, 512, 32  8224       ['conv2d_72[0][0]']              \n",
            " nspose)                        )                                                                 \n",
            "                                                                                                  \n",
            " concatenate_15 (Concatenate)   (None, 512, 512, 64  0           ['conv2d_transpose_15[0][0]',    \n",
            "                                )                                 'conv2d_57[0][0]']              \n",
            "                                                                                                  \n",
            " conv2d_73 (Conv2D)             (None, 512, 512, 32  18464       ['concatenate_15[0][0]']         \n",
            "                                )                                                                 \n",
            "                                                                                                  \n",
            " conv2d_74 (Conv2D)             (None, 512, 512, 32  9248        ['conv2d_73[0][0]']              \n",
            "                                )                                                                 \n",
            "                                                                                                  \n",
            " conv2d_75 (Conv2D)             (None, 512, 512, 1)  33          ['conv2d_74[0][0]']              \n",
            "                                                                                                  \n",
            "==================================================================================================\n",
            "Total params: 7,754,369\n",
            "Trainable params: 7,752,321\n",
            "Non-trainable params: 2,048\n",
            "__________________________________________________________________________________________________\n"
          ]
        }
      ],
      "source": [
        "if classes == 2:\n",
        "    output = Conv2D(1, (1,1), activation = 'sigmoid', kernel_initializer = 'he_uniform')(convUp)\n",
        "else:\n",
        "    output = Conv2D((classes), (1,1), activation = 'softmax', kernel_initializer = 'he_uniform')(convUp)\n",
        "output.shape\n",
        "\n",
        "model = Model(inputs = [input], outputs = [output])\n",
        "#Now using MeanIoU instead of accuracy\n",
        "'''\n",
        "model.compile(optimizer = tf.keras.optimizers.Adam(learning_rate=1e-3), \n",
        "              loss = 'binary_crossentropy', \n",
        "              metrics = ['accuracy', \n",
        "                         MeanIoU(num_classes=2, name = 'MeanIoU', ignore_class=0)])\n",
        "'''\n",
        "#Using only dice\n",
        "model.compile(optimizer = tf.keras.optimizers.Adam(learning_rate=1e-3), \n",
        "              loss = [dice_loss], #loss = [dice_loss]\n",
        "              metrics = [dice_coefficient])\n",
        "model.summary()"
      ]
    },
    {
      "cell_type": "code",
      "execution_count": null,
      "metadata": {
        "colab": {
          "base_uri": "https://localhost:8080/",
          "height": 1000
        },
        "id": "oPsoVYFW4ovV",
        "outputId": "739736df-ca08-4bfc-cbac-86c1a807e08f"
      },
      "outputs": [
        {
          "name": "stdout",
          "output_type": "stream",
          "text": [
            "You must install pydot (`pip install pydot`) and install graphviz (see instructions at https://graphviz.gitlab.io/download/) for plot_model to work.\n"
          ]
        }
      ],
      "source": [
        "tf.keras.utils.plot_model(model, \"model.png\")"
      ]
    },
    {
      "attachments": {},
      "cell_type": "markdown",
      "metadata": {
        "id": "X13jrw43PMef"
      },
      "source": [
        "#3 Treinando a rede"
      ]
    },
    {
      "cell_type": "code",
      "execution_count": null,
      "metadata": {
        "colab": {
          "base_uri": "https://localhost:8080/",
          "height": 831
        },
        "id": "bwPxrg0ihWHb",
        "outputId": "0c337aa5-e360-45b6-e9a8-691c67c06409"
      },
      "outputs": [
        {
          "name": "stdout",
          "output_type": "stream",
          "text": [
            "Epoch 1/50\n",
            "19/19 [==============================] - 420s 22s/step - loss: 0.9426 - dice_coefficient: 0.0574 - val_loss: 0.9575 - val_dice_coefficient: 0.0425\n",
            "Epoch 2/50\n",
            "19/19 [==============================] - 458s 24s/step - loss: 0.7699 - dice_coefficient: 0.2301 - val_loss: 0.9065 - val_dice_coefficient: 0.0935\n",
            "Epoch 3/50\n",
            "11/19 [================>.............] - ETA: 3:09 - loss: 0.7346 - dice_coefficient: 0.2654"
          ]
        },
        {
          "ename": "KeyboardInterrupt",
          "evalue": "",
          "output_type": "error",
          "traceback": [
            "\u001b[0;31m---------------------------------------------------------------------------\u001b[0m",
            "\u001b[0;31mKeyboardInterrupt\u001b[0m                         Traceback (most recent call last)",
            "Cell \u001b[0;32mIn[98], line 3\u001b[0m\n\u001b[1;32m      1\u001b[0m checkpoint \u001b[39m=\u001b[39m ModelCheckpoint(filepath\u001b[39m=\u001b[39m\u001b[39m'\u001b[39m\u001b[39mmodel.h5\u001b[39m\u001b[39m'\u001b[39m, save_freq \u001b[39m=\u001b[39m \u001b[39m'\u001b[39m\u001b[39mepoch\u001b[39m\u001b[39m'\u001b[39m)\n\u001b[1;32m      2\u001b[0m \u001b[39m#model.load_weights(\"model.h5\")\u001b[39;00m\n\u001b[0;32m----> 3\u001b[0m history \u001b[39m=\u001b[39m model\u001b[39m.\u001b[39;49mfit(X, y, epochs\u001b[39m=\u001b[39;49m\u001b[39m50\u001b[39;49m, batch_size \u001b[39m=\u001b[39;49m \u001b[39m8\u001b[39;49m, callbacks \u001b[39m=\u001b[39;49m [checkpoint], validation_data\u001b[39m=\u001b[39;49m(X_val, y_val))\n",
            "File \u001b[0;32m~/anaconda3/envs/tensorflow2/lib/python3.10/site-packages/keras/utils/traceback_utils.py:65\u001b[0m, in \u001b[0;36mfilter_traceback.<locals>.error_handler\u001b[0;34m(*args, **kwargs)\u001b[0m\n\u001b[1;32m     63\u001b[0m filtered_tb \u001b[39m=\u001b[39m \u001b[39mNone\u001b[39;00m\n\u001b[1;32m     64\u001b[0m \u001b[39mtry\u001b[39;00m:\n\u001b[0;32m---> 65\u001b[0m     \u001b[39mreturn\u001b[39;00m fn(\u001b[39m*\u001b[39;49margs, \u001b[39m*\u001b[39;49m\u001b[39m*\u001b[39;49mkwargs)\n\u001b[1;32m     66\u001b[0m \u001b[39mexcept\u001b[39;00m \u001b[39mException\u001b[39;00m \u001b[39mas\u001b[39;00m e:\n\u001b[1;32m     67\u001b[0m     filtered_tb \u001b[39m=\u001b[39m _process_traceback_frames(e\u001b[39m.\u001b[39m__traceback__)\n",
            "File \u001b[0;32m~/anaconda3/envs/tensorflow2/lib/python3.10/site-packages/keras/engine/training.py:1650\u001b[0m, in \u001b[0;36mModel.fit\u001b[0;34m(self, x, y, batch_size, epochs, verbose, callbacks, validation_split, validation_data, shuffle, class_weight, sample_weight, initial_epoch, steps_per_epoch, validation_steps, validation_batch_size, validation_freq, max_queue_size, workers, use_multiprocessing)\u001b[0m\n\u001b[1;32m   1642\u001b[0m \u001b[39mwith\u001b[39;00m tf\u001b[39m.\u001b[39mprofiler\u001b[39m.\u001b[39mexperimental\u001b[39m.\u001b[39mTrace(\n\u001b[1;32m   1643\u001b[0m     \u001b[39m\"\u001b[39m\u001b[39mtrain\u001b[39m\u001b[39m\"\u001b[39m,\n\u001b[1;32m   1644\u001b[0m     epoch_num\u001b[39m=\u001b[39mepoch,\n\u001b[0;32m   (...)\u001b[0m\n\u001b[1;32m   1647\u001b[0m     _r\u001b[39m=\u001b[39m\u001b[39m1\u001b[39m,\n\u001b[1;32m   1648\u001b[0m ):\n\u001b[1;32m   1649\u001b[0m     callbacks\u001b[39m.\u001b[39mon_train_batch_begin(step)\n\u001b[0;32m-> 1650\u001b[0m     tmp_logs \u001b[39m=\u001b[39m \u001b[39mself\u001b[39;49m\u001b[39m.\u001b[39;49mtrain_function(iterator)\n\u001b[1;32m   1651\u001b[0m     \u001b[39mif\u001b[39;00m data_handler\u001b[39m.\u001b[39mshould_sync:\n\u001b[1;32m   1652\u001b[0m         context\u001b[39m.\u001b[39masync_wait()\n",
            "File \u001b[0;32m~/anaconda3/envs/tensorflow2/lib/python3.10/site-packages/tensorflow/python/util/traceback_utils.py:150\u001b[0m, in \u001b[0;36mfilter_traceback.<locals>.error_handler\u001b[0;34m(*args, **kwargs)\u001b[0m\n\u001b[1;32m    148\u001b[0m filtered_tb \u001b[39m=\u001b[39m \u001b[39mNone\u001b[39;00m\n\u001b[1;32m    149\u001b[0m \u001b[39mtry\u001b[39;00m:\n\u001b[0;32m--> 150\u001b[0m   \u001b[39mreturn\u001b[39;00m fn(\u001b[39m*\u001b[39;49margs, \u001b[39m*\u001b[39;49m\u001b[39m*\u001b[39;49mkwargs)\n\u001b[1;32m    151\u001b[0m \u001b[39mexcept\u001b[39;00m \u001b[39mException\u001b[39;00m \u001b[39mas\u001b[39;00m e:\n\u001b[1;32m    152\u001b[0m   filtered_tb \u001b[39m=\u001b[39m _process_traceback_frames(e\u001b[39m.\u001b[39m__traceback__)\n",
            "File \u001b[0;32m~/anaconda3/envs/tensorflow2/lib/python3.10/site-packages/tensorflow/python/eager/polymorphic_function/polymorphic_function.py:880\u001b[0m, in \u001b[0;36mFunction.__call__\u001b[0;34m(self, *args, **kwds)\u001b[0m\n\u001b[1;32m    877\u001b[0m compiler \u001b[39m=\u001b[39m \u001b[39m\"\u001b[39m\u001b[39mxla\u001b[39m\u001b[39m\"\u001b[39m \u001b[39mif\u001b[39;00m \u001b[39mself\u001b[39m\u001b[39m.\u001b[39m_jit_compile \u001b[39melse\u001b[39;00m \u001b[39m\"\u001b[39m\u001b[39mnonXla\u001b[39m\u001b[39m\"\u001b[39m\n\u001b[1;32m    879\u001b[0m \u001b[39mwith\u001b[39;00m OptionalXlaContext(\u001b[39mself\u001b[39m\u001b[39m.\u001b[39m_jit_compile):\n\u001b[0;32m--> 880\u001b[0m   result \u001b[39m=\u001b[39m \u001b[39mself\u001b[39;49m\u001b[39m.\u001b[39;49m_call(\u001b[39m*\u001b[39;49margs, \u001b[39m*\u001b[39;49m\u001b[39m*\u001b[39;49mkwds)\n\u001b[1;32m    882\u001b[0m new_tracing_count \u001b[39m=\u001b[39m \u001b[39mself\u001b[39m\u001b[39m.\u001b[39mexperimental_get_tracing_count()\n\u001b[1;32m    883\u001b[0m without_tracing \u001b[39m=\u001b[39m (tracing_count \u001b[39m==\u001b[39m new_tracing_count)\n",
            "File \u001b[0;32m~/anaconda3/envs/tensorflow2/lib/python3.10/site-packages/tensorflow/python/eager/polymorphic_function/polymorphic_function.py:912\u001b[0m, in \u001b[0;36mFunction._call\u001b[0;34m(self, *args, **kwds)\u001b[0m\n\u001b[1;32m    909\u001b[0m   \u001b[39mself\u001b[39m\u001b[39m.\u001b[39m_lock\u001b[39m.\u001b[39mrelease()\n\u001b[1;32m    910\u001b[0m   \u001b[39m# In this case we have created variables on the first call, so we run the\u001b[39;00m\n\u001b[1;32m    911\u001b[0m   \u001b[39m# defunned version which is guaranteed to never create variables.\u001b[39;00m\n\u001b[0;32m--> 912\u001b[0m   \u001b[39mreturn\u001b[39;00m \u001b[39mself\u001b[39;49m\u001b[39m.\u001b[39;49m_no_variable_creation_fn(\u001b[39m*\u001b[39;49margs, \u001b[39m*\u001b[39;49m\u001b[39m*\u001b[39;49mkwds)  \u001b[39m# pylint: disable=not-callable\u001b[39;00m\n\u001b[1;32m    913\u001b[0m \u001b[39melif\u001b[39;00m \u001b[39mself\u001b[39m\u001b[39m.\u001b[39m_variable_creation_fn \u001b[39mis\u001b[39;00m \u001b[39mnot\u001b[39;00m \u001b[39mNone\u001b[39;00m:\n\u001b[1;32m    914\u001b[0m   \u001b[39m# Release the lock early so that multiple threads can perform the call\u001b[39;00m\n\u001b[1;32m    915\u001b[0m   \u001b[39m# in parallel.\u001b[39;00m\n\u001b[1;32m    916\u001b[0m   \u001b[39mself\u001b[39m\u001b[39m.\u001b[39m_lock\u001b[39m.\u001b[39mrelease()\n",
            "File \u001b[0;32m~/anaconda3/envs/tensorflow2/lib/python3.10/site-packages/tensorflow/python/eager/polymorphic_function/tracing_compiler.py:134\u001b[0m, in \u001b[0;36mTracingCompiler.__call__\u001b[0;34m(self, *args, **kwargs)\u001b[0m\n\u001b[1;32m    131\u001b[0m \u001b[39mwith\u001b[39;00m \u001b[39mself\u001b[39m\u001b[39m.\u001b[39m_lock:\n\u001b[1;32m    132\u001b[0m   (concrete_function,\n\u001b[1;32m    133\u001b[0m    filtered_flat_args) \u001b[39m=\u001b[39m \u001b[39mself\u001b[39m\u001b[39m.\u001b[39m_maybe_define_function(args, kwargs)\n\u001b[0;32m--> 134\u001b[0m \u001b[39mreturn\u001b[39;00m concrete_function\u001b[39m.\u001b[39;49m_call_flat(\n\u001b[1;32m    135\u001b[0m     filtered_flat_args, captured_inputs\u001b[39m=\u001b[39;49mconcrete_function\u001b[39m.\u001b[39;49mcaptured_inputs)\n",
            "File \u001b[0;32m~/anaconda3/envs/tensorflow2/lib/python3.10/site-packages/tensorflow/python/eager/polymorphic_function/monomorphic_function.py:1745\u001b[0m, in \u001b[0;36mConcreteFunction._call_flat\u001b[0;34m(self, args, captured_inputs, cancellation_manager)\u001b[0m\n\u001b[1;32m   1741\u001b[0m possible_gradient_type \u001b[39m=\u001b[39m gradients_util\u001b[39m.\u001b[39mPossibleTapeGradientTypes(args)\n\u001b[1;32m   1742\u001b[0m \u001b[39mif\u001b[39;00m (possible_gradient_type \u001b[39m==\u001b[39m gradients_util\u001b[39m.\u001b[39mPOSSIBLE_GRADIENT_TYPES_NONE\n\u001b[1;32m   1743\u001b[0m     \u001b[39mand\u001b[39;00m executing_eagerly):\n\u001b[1;32m   1744\u001b[0m   \u001b[39m# No tape is watching; skip to running the function.\u001b[39;00m\n\u001b[0;32m-> 1745\u001b[0m   \u001b[39mreturn\u001b[39;00m \u001b[39mself\u001b[39m\u001b[39m.\u001b[39m_build_call_outputs(\u001b[39mself\u001b[39;49m\u001b[39m.\u001b[39;49m_inference_function\u001b[39m.\u001b[39;49mcall(\n\u001b[1;32m   1746\u001b[0m       ctx, args, cancellation_manager\u001b[39m=\u001b[39;49mcancellation_manager))\n\u001b[1;32m   1747\u001b[0m forward_backward \u001b[39m=\u001b[39m \u001b[39mself\u001b[39m\u001b[39m.\u001b[39m_select_forward_and_backward_functions(\n\u001b[1;32m   1748\u001b[0m     args,\n\u001b[1;32m   1749\u001b[0m     possible_gradient_type,\n\u001b[1;32m   1750\u001b[0m     executing_eagerly)\n\u001b[1;32m   1751\u001b[0m forward_function, args_with_tangents \u001b[39m=\u001b[39m forward_backward\u001b[39m.\u001b[39mforward()\n",
            "File \u001b[0;32m~/anaconda3/envs/tensorflow2/lib/python3.10/site-packages/tensorflow/python/eager/polymorphic_function/monomorphic_function.py:378\u001b[0m, in \u001b[0;36m_EagerDefinedFunction.call\u001b[0;34m(self, ctx, args, cancellation_manager)\u001b[0m\n\u001b[1;32m    376\u001b[0m \u001b[39mwith\u001b[39;00m _InterpolateFunctionError(\u001b[39mself\u001b[39m):\n\u001b[1;32m    377\u001b[0m   \u001b[39mif\u001b[39;00m cancellation_manager \u001b[39mis\u001b[39;00m \u001b[39mNone\u001b[39;00m:\n\u001b[0;32m--> 378\u001b[0m     outputs \u001b[39m=\u001b[39m execute\u001b[39m.\u001b[39;49mexecute(\n\u001b[1;32m    379\u001b[0m         \u001b[39mstr\u001b[39;49m(\u001b[39mself\u001b[39;49m\u001b[39m.\u001b[39;49msignature\u001b[39m.\u001b[39;49mname),\n\u001b[1;32m    380\u001b[0m         num_outputs\u001b[39m=\u001b[39;49m\u001b[39mself\u001b[39;49m\u001b[39m.\u001b[39;49m_num_outputs,\n\u001b[1;32m    381\u001b[0m         inputs\u001b[39m=\u001b[39;49margs,\n\u001b[1;32m    382\u001b[0m         attrs\u001b[39m=\u001b[39;49mattrs,\n\u001b[1;32m    383\u001b[0m         ctx\u001b[39m=\u001b[39;49mctx)\n\u001b[1;32m    384\u001b[0m   \u001b[39melse\u001b[39;00m:\n\u001b[1;32m    385\u001b[0m     outputs \u001b[39m=\u001b[39m execute\u001b[39m.\u001b[39mexecute_with_cancellation(\n\u001b[1;32m    386\u001b[0m         \u001b[39mstr\u001b[39m(\u001b[39mself\u001b[39m\u001b[39m.\u001b[39msignature\u001b[39m.\u001b[39mname),\n\u001b[1;32m    387\u001b[0m         num_outputs\u001b[39m=\u001b[39m\u001b[39mself\u001b[39m\u001b[39m.\u001b[39m_num_outputs,\n\u001b[0;32m   (...)\u001b[0m\n\u001b[1;32m    390\u001b[0m         ctx\u001b[39m=\u001b[39mctx,\n\u001b[1;32m    391\u001b[0m         cancellation_manager\u001b[39m=\u001b[39mcancellation_manager)\n",
            "File \u001b[0;32m~/anaconda3/envs/tensorflow2/lib/python3.10/site-packages/tensorflow/python/eager/execute.py:52\u001b[0m, in \u001b[0;36mquick_execute\u001b[0;34m(op_name, num_outputs, inputs, attrs, ctx, name)\u001b[0m\n\u001b[1;32m     50\u001b[0m \u001b[39mtry\u001b[39;00m:\n\u001b[1;32m     51\u001b[0m   ctx\u001b[39m.\u001b[39mensure_initialized()\n\u001b[0;32m---> 52\u001b[0m   tensors \u001b[39m=\u001b[39m pywrap_tfe\u001b[39m.\u001b[39;49mTFE_Py_Execute(ctx\u001b[39m.\u001b[39;49m_handle, device_name, op_name,\n\u001b[1;32m     53\u001b[0m                                       inputs, attrs, num_outputs)\n\u001b[1;32m     54\u001b[0m \u001b[39mexcept\u001b[39;00m core\u001b[39m.\u001b[39m_NotOkStatusException \u001b[39mas\u001b[39;00m e:\n\u001b[1;32m     55\u001b[0m   \u001b[39mif\u001b[39;00m name \u001b[39mis\u001b[39;00m \u001b[39mnot\u001b[39;00m \u001b[39mNone\u001b[39;00m:\n",
            "\u001b[0;31mKeyboardInterrupt\u001b[0m: "
          ]
        }
      ],
      "source": [
        "checkpoint = ModelCheckpoint(filepath='model.h5', save_freq = 'epoch')\n",
        "#model.load_weights(\"model.h5\")\n",
        "history = model.fit(X, y, epochs=50, batch_size = 8, callbacks = [checkpoint], validation_data=(X_val, y_val))"
      ]
    },
    {
      "attachments": {},
      "cell_type": "markdown",
      "metadata": {
        "id": "upRZFcawPPzg"
      },
      "source": [
        "#4 Testes"
      ]
    },
    {
      "cell_type": "code",
      "execution_count": null,
      "metadata": {
        "colab": {
          "base_uri": "https://localhost:8080/"
        },
        "id": "NV9cVNS0QFLT",
        "outputId": "9844483c-bd71-42c2-88d6-ef1596b88703"
      },
      "outputs": [
        {
          "name": "stdout",
          "output_type": "stream",
          "text": [
            "1/1 [==============================] - 0s 355ms/step\n"
          ]
        }
      ],
      "source": [
        "#model = tf.keras.models.load_model('model.31.h5')\n",
        "a = X_val[0:10]\n",
        "test = model.predict(a)\n",
        "#X_val.shape"
      ]
    },
    {
      "cell_type": "code",
      "execution_count": null,
      "metadata": {
        "id": "hUPBVTWo4pxn"
      },
      "outputs": [],
      "source": [
        "image_id = 7\n",
        "\n",
        "f, axarr = plt.subplots(2,2)\n",
        "axarr[0,0].imshow(X_val[image_id], cmap = 'gray')\n",
        "axarr[0,1].imshow(y_val[image_id,:,:], cmap = 'gray')\n",
        "axarr[1,0].imshow(X_val[image_id], cmap = 'gray')\n",
        "axarr[1,1].imshow(test[image_id,:,:], cmap = 'gray')\n",
        "\n",
        "plt.show()"
      ]
    },
    {
      "cell_type": "code",
      "execution_count": null,
      "metadata": {
        "id": "-blaW2pPgxRf"
      },
      "outputs": [],
      "source": [
        "import pickle\n",
        "\n",
        "\n",
        "with open('trainHistoryDict', 'wb') as file_pi:\n",
        "    pickle.dump(history.history, file_pi)"
      ]
    }
  ],
  "metadata": {
    "accelerator": "GPU",
    "colab": {
      "collapsed_sections": [
        "EDTBA-oRPDLv",
        "-eBKPfsJE8hv"
      ],
      "provenance": []
    },
    "gpuClass": "standard",
    "kernelspec": {
      "display_name": "Python 3",
      "name": "python3"
    },
    "language_info": {
      "codemirror_mode": {
        "name": "ipython",
        "version": 3
      },
      "file_extension": ".py",
      "mimetype": "text/x-python",
      "name": "python",
      "nbconvert_exporter": "python",
      "pygments_lexer": "ipython3",
      "version": "3.10.10"
    }
  },
  "nbformat": 4,
  "nbformat_minor": 0
}

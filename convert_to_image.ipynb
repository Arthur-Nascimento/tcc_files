{
 "cells": [
  {
   "cell_type": "code",
   "execution_count": 1,
   "metadata": {},
   "outputs": [],
   "source": [
    "import cv2\n",
    "import nibabel as nib\n",
    "import numpy as np\n",
    "import os\n",
    "import matplotlib.pyplot as plt"
   ]
  },
  {
   "cell_type": "code",
   "execution_count": 2,
   "metadata": {},
   "outputs": [],
   "source": [
    "images_path = \"datasets/tomo/img\"\n",
    "masks_path = \"datasets/tomo/mask\"\n",
    "\n",
    "new_mask_path = 'datasets/tomo_img/mask'\n",
    "new_img_path = 'datasets/tomo_img/img'\n",
    "\n",
    "total = 0\n",
    "\n",
    "\n",
    "os.makedirs(new_img_path, exist_ok=True)\n",
    "os.makedirs(new_mask_path, exist_ok=True)"
   ]
  },
  {
   "cell_type": "code",
   "execution_count": 3,
   "metadata": {},
   "outputs": [
    {
     "ename": "KeyboardInterrupt",
     "evalue": "",
     "output_type": "error",
     "traceback": [
      "\u001b[1;31m---------------------------------------------------------------------------\u001b[0m",
      "\u001b[1;31mKeyboardInterrupt\u001b[0m                         Traceback (most recent call last)",
      "Cell \u001b[1;32mIn[3], line 3\u001b[0m\n\u001b[0;32m      1\u001b[0m \u001b[39mfor\u001b[39;00m file \u001b[39min\u001b[39;00m \u001b[39msorted\u001b[39m(os\u001b[39m.\u001b[39mlistdir(images_path)):\n\u001b[0;32m      2\u001b[0m     img_nib \u001b[39m=\u001b[39m nib\u001b[39m.\u001b[39mload(os\u001b[39m.\u001b[39mpath\u001b[39m.\u001b[39mjoin(images_path, file))\u001b[39m.\u001b[39mget_fdata()\n\u001b[1;32m----> 3\u001b[0m     mask_nib \u001b[39m=\u001b[39m nib\u001b[39m.\u001b[39;49mload(os\u001b[39m.\u001b[39;49mpath\u001b[39m.\u001b[39;49mjoin(masks_path, \u001b[39m\"\u001b[39;49m\u001b[39msegmentation\u001b[39;49m\u001b[39m\"\u001b[39;49m\u001b[39m+\u001b[39;49mfile[\u001b[39m-\u001b[39;49m(\u001b[39mlen\u001b[39;49m(file)\u001b[39m-\u001b[39;49m\u001b[39m6\u001b[39;49m):]))\u001b[39m.\u001b[39;49mget_fdata()\n\u001b[0;32m      4\u001b[0m     \u001b[39mfor\u001b[39;00m i \u001b[39min\u001b[39;00m \u001b[39mrange\u001b[39m(mask_nib\u001b[39m.\u001b[39mshape[\u001b[39m2\u001b[39m]):\n\u001b[0;32m      5\u001b[0m         new_mask \u001b[39m=\u001b[39m mask_nib[:, :, i] \u001b[39m/\u001b[39m \u001b[39m2.0\u001b[39m\n",
      "File \u001b[1;32mc:\\Users\\Tutu_\\anaconda3\\envs\\segmentation\\lib\\site-packages\\nibabel\\dataobj_images.py:373\u001b[0m, in \u001b[0;36mDataobjImage.get_fdata\u001b[1;34m(self, caching, dtype)\u001b[0m\n\u001b[0;32m    369\u001b[0m         \u001b[39mreturn\u001b[39;00m \u001b[39mself\u001b[39m\u001b[39m.\u001b[39m_fdata_cache\n\u001b[0;32m    370\u001b[0m \u001b[39m# Always return requested data type\u001b[39;00m\n\u001b[0;32m    371\u001b[0m \u001b[39m# For array proxies, will attempt to confine data array to dtype\u001b[39;00m\n\u001b[0;32m    372\u001b[0m \u001b[39m# during scaling\u001b[39;00m\n\u001b[1;32m--> 373\u001b[0m data \u001b[39m=\u001b[39m np\u001b[39m.\u001b[39;49masanyarray(\u001b[39mself\u001b[39;49m\u001b[39m.\u001b[39;49m_dataobj, dtype\u001b[39m=\u001b[39;49mdtype)\n\u001b[0;32m    374\u001b[0m \u001b[39mif\u001b[39;00m caching \u001b[39m==\u001b[39m \u001b[39m'\u001b[39m\u001b[39mfill\u001b[39m\u001b[39m'\u001b[39m:\n\u001b[0;32m    375\u001b[0m     \u001b[39mself\u001b[39m\u001b[39m.\u001b[39m_fdata_cache \u001b[39m=\u001b[39m data\n",
      "File \u001b[1;32mc:\\Users\\Tutu_\\anaconda3\\envs\\segmentation\\lib\\site-packages\\nibabel\\arrayproxy.py:439\u001b[0m, in \u001b[0;36mArrayProxy.__array__\u001b[1;34m(self, dtype)\u001b[0m\n\u001b[0;32m    418\u001b[0m \u001b[39mdef\u001b[39;00m \u001b[39m__array__\u001b[39m(\u001b[39mself\u001b[39m, dtype\u001b[39m=\u001b[39m\u001b[39mNone\u001b[39;00m):\n\u001b[0;32m    419\u001b[0m \u001b[39m    \u001b[39m\u001b[39m\"\"\"Read data from file and apply scaling, casting to ``dtype``\u001b[39;00m\n\u001b[0;32m    420\u001b[0m \n\u001b[0;32m    421\u001b[0m \u001b[39m    If ``dtype`` is unspecified, the dtype of the returned array is the\u001b[39;00m\n\u001b[1;32m   (...)\u001b[0m\n\u001b[0;32m    437\u001b[0m \u001b[39m        Scaled image data with type `dtype`.\u001b[39;00m\n\u001b[0;32m    438\u001b[0m \u001b[39m    \"\"\"\u001b[39;00m\n\u001b[1;32m--> 439\u001b[0m     arr \u001b[39m=\u001b[39m \u001b[39mself\u001b[39;49m\u001b[39m.\u001b[39;49m_get_scaled(dtype\u001b[39m=\u001b[39;49mdtype, slicer\u001b[39m=\u001b[39;49m())\n\u001b[0;32m    440\u001b[0m     \u001b[39mif\u001b[39;00m dtype \u001b[39mis\u001b[39;00m \u001b[39mnot\u001b[39;00m \u001b[39mNone\u001b[39;00m:\n\u001b[0;32m    441\u001b[0m         arr \u001b[39m=\u001b[39m arr\u001b[39m.\u001b[39mastype(dtype, copy\u001b[39m=\u001b[39m\u001b[39mFalse\u001b[39;00m)\n",
      "File \u001b[1;32mc:\\Users\\Tutu_\\anaconda3\\envs\\segmentation\\lib\\site-packages\\nibabel\\arrayproxy.py:408\u001b[0m, in \u001b[0;36mArrayProxy._get_scaled\u001b[1;34m(self, dtype, slicer)\u001b[0m\n\u001b[0;32m    406\u001b[0m scaled \u001b[39m=\u001b[39m apply_read_scaling(\u001b[39mself\u001b[39m\u001b[39m.\u001b[39m_get_unscaled(slicer\u001b[39m=\u001b[39mslicer), scl_slope, scl_inter)\n\u001b[0;32m    407\u001b[0m \u001b[39mif\u001b[39;00m dtype \u001b[39mis\u001b[39;00m \u001b[39mnot\u001b[39;00m \u001b[39mNone\u001b[39;00m:\n\u001b[1;32m--> 408\u001b[0m     scaled \u001b[39m=\u001b[39m scaled\u001b[39m.\u001b[39;49mastype(np\u001b[39m.\u001b[39;49mpromote_types(scaled\u001b[39m.\u001b[39;49mdtype, dtype), copy\u001b[39m=\u001b[39;49m\u001b[39mFalse\u001b[39;49;00m)\n\u001b[0;32m    409\u001b[0m \u001b[39mreturn\u001b[39;00m scaled\n",
      "\u001b[1;31mKeyboardInterrupt\u001b[0m: "
     ]
    }
   ],
   "source": [
    "for file in sorted(os.listdir(images_path)):\n",
    "    img_nib = nib.load(os.path.join(images_path, file)).get_fdata()\n",
    "    mask_nib = nib.load(os.path.join(masks_path, \"segmentation\"+file[-(len(file)-6):])).get_fdata()\n",
    "    for i in range(mask_nib.shape[2]):\n",
    "        new_mask = mask_nib[:, :, i] / 2.0\n",
    "        new_img_name = os.path.join(\"datasets/tomo_img/img\", str(total)+\".png\")\n",
    "        new_mask_name = os.path.join(\"datasets/tomo_img/mask\", str(total)+\".png\")\n",
    "\n",
    "        new_mask = (new_mask*255).astype(np.uint8)\n",
    "        cv2.imwrite(new_img_name, np.uint8(img_nib[:,:,i]))\n",
    "        cv2.imwrite(new_mask_name, new_mask)\n",
    "        total += 1"
   ]
  }
 ],
 "metadata": {
  "kernelspec": {
   "display_name": "segmentation",
   "language": "python",
   "name": "python3"
  },
  "language_info": {
   "codemirror_mode": {
    "name": "ipython",
    "version": 3
   },
   "file_extension": ".py",
   "mimetype": "text/x-python",
   "name": "python",
   "nbconvert_exporter": "python",
   "pygments_lexer": "ipython3",
   "version": "3.10.10"
  },
  "orig_nbformat": 4
 },
 "nbformat": 4,
 "nbformat_minor": 2
}

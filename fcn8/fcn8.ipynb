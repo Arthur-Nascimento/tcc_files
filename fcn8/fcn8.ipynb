{
  "cells": [
    {
      "cell_type": "code",
      "execution_count": null,
      "metadata": {
        "id": "Fkjh3xgaexBl"
      },
      "outputs": [],
      "source": [
        "import tensorflow as tf\n",
        "from tensorflow.keras.layers import Conv2D, MaxPooling2D, Input, Add, Conv2DTranspose, Cropping2D\n",
        "from tensorflow.keras.models import Model\n",
        "from tensorflow.keras.callbacks import ModelCheckpoint"
      ]
    },
    {
      "cell_type": "markdown",
      "source": [
        "#1 Dataset \n"
      ],
      "metadata": {
        "id": "s3ttQWJnRqVU"
      }
    },
    {
      "cell_type": "code",
      "source": [
        "#Data\n",
        "import numpy as np\n",
        "import os\n",
        "import cv2\n",
        "from tensorflow.keras.utils import image_dataset_from_directory"
      ],
      "metadata": {
        "id": "vsk5qSWZRxZ4"
      },
      "execution_count": null,
      "outputs": []
    },
    {
      "cell_type": "code",
      "source": [
        "!kaggle datasets download -d andrewmvd/liver-tumor-segmentation"
      ],
      "metadata": {
        "colab": {
          "base_uri": "https://localhost:8080/"
        },
        "id": "kSLEwb8083q4",
        "outputId": "691e6ea0-3f9c-4946-81c9-c8a869da3de9"
      },
      "execution_count": null,
      "outputs": [
        {
          "output_type": "stream",
          "name": "stdout",
          "text": [
            "Traceback (most recent call last):\n",
            "  File \"/usr/local/bin/kaggle\", line 5, in <module>\n",
            "    from kaggle.cli import main\n",
            "  File \"/usr/local/lib/python3.10/dist-packages/kaggle/__init__.py\", line 23, in <module>\n",
            "    api.authenticate()\n",
            "  File \"/usr/local/lib/python3.10/dist-packages/kaggle/api/kaggle_api_extended.py\", line 164, in authenticate\n",
            "    raise IOError('Could not find {}. Make sure it\\'s located in'\n",
            "OSError: Could not find kaggle.json. Make sure it's located in /root/.kaggle. Or use the environment method.\n"
          ]
        }
      ]
    },
    {
      "cell_type": "code",
      "source": [
        "'''\n",
        "X_val = np.load('images_val.npy')\n",
        "y_val = np.load('masks_val.npy')\n",
        "X = np.load('images.npy')\n",
        "y = np.load('masks.npy')\n",
        "    \n",
        "\n",
        "print(X_val.shape)\n",
        "print(y_val.shape)\n",
        "print(X.shape)\n",
        "print(y.shape)\n",
        "'''\n",
        "if not os.path.isdir(\"mask\"):\n",
        "  !unzip data.zip\n",
        "\n",
        "input_path = os.listdir(\"img/\")\n",
        "\n",
        "val_amount = 0.25\n",
        "toTrain = round(len(input_path)*(1-val_amount))\n",
        "toVal = round(len(input_path)*val_amount)\n",
        "\n",
        "X =  np.zeros((toTrain, 512, 512), dtype = \"uint8\")\n",
        "y =  np.zeros((toTrain, 512, 512), dtype = \"bool\")\n",
        "X_val = np.zeros((toVal, 512, 512), dtype = \"uint8\")\n",
        "y_val = np.zeros((toVal, 512, 512), dtype = \"bool\")\n",
        "\n",
        "norm = 0\n",
        "vali = 0\n",
        "for i in range(len(input_path)):\n",
        "    img_path = os.path.join(\"img/\", input_path[i])\n",
        "    mask_path = os.path.join(\"mask/\", input_path[i])\n",
        "    img = cv2.cvtColor(cv2.imread(img_path), cv2.COLOR_BGR2GRAY)\n",
        "    mask = cv2.cvtColor(cv2.imread(mask_path), cv2.COLOR_BGR2GRAY)\n",
        "    img = cv2.resize(img, (512, 512))\n",
        "    mask = cv2.resize(mask, (512, 512))\n",
        "    \n",
        "    if i >= toTrain:\n",
        "        X_val[vali, :, :] = img\n",
        "        y_val[vali, :, :] = mask\n",
        "        vali += 1\n",
        "    else:\n",
        "        X[norm, :, :] = img\n",
        "        y[norm, :, :] = mask\n",
        "        norm += 1\n"
      ],
      "metadata": {
        "id": "9FQBAI1_Rx5t"
      },
      "execution_count": null,
      "outputs": []
    },
    {
      "cell_type": "code",
      "source": [
        "%matplotlib inline\n",
        "from matplotlib import pyplot as plt\n",
        "f, axarr = plt.subplots(2,2)\n",
        "axarr[0,0].imshow(X[1], cmap = 'gray')\n",
        "axarr[0,1].imshow(y[1,:,:], cmap = 'gray')\n",
        "axarr[1,0].imshow(X_val[1], cmap = 'gray')\n",
        "axarr[1,1].imshow(y_val[1,:,:], cmap = 'gray')\n",
        "\n",
        "plt.show()"
      ],
      "metadata": {
        "id": "dFrnxn8PR1e8"
      },
      "execution_count": null,
      "outputs": []
    },
    {
      "cell_type": "markdown",
      "source": [
        "#2 Arquitetura\n"
      ],
      "metadata": {
        "id": "nMbPxzFhRkfD"
      }
    },
    {
      "cell_type": "code",
      "execution_count": null,
      "metadata": {
        "id": "i-9mE009wMjh"
      },
      "outputs": [],
      "source": [
        "filters = 16"
      ]
    },
    {
      "cell_type": "code",
      "execution_count": null,
      "metadata": {
        "id": "k7Hf47zQfIr1"
      },
      "outputs": [],
      "source": [
        "shape = (512,512,3)\n",
        "input = Input(shape)"
      ]
    },
    {
      "cell_type": "code",
      "execution_count": null,
      "metadata": {
        "colab": {
          "base_uri": "https://localhost:8080/"
        },
        "id": "2q3TaWg4fSM1",
        "outputId": "9dee8006-5939-4392-e32d-abdccfe59b34"
      },
      "outputs": [
        {
          "data": {
            "text/plain": [
              "TensorShape([None, 256, 256, 16])"
            ]
          },
          "execution_count": 67,
          "metadata": {},
          "output_type": "execute_result"
        }
      ],
      "source": [
        "#VGG-16 Encoder\n",
        "conv1 = Conv2D(filters, (3,3), padding = 'same', activation = 'relu', kernel_initializer = 'he_uniform')(input)\n",
        "conv1 = Conv2D(filters, (3,3), padding = 'same', activation = 'relu', kernel_initializer = 'he_uniform')(conv1)\n",
        "pool1 = MaxPooling2D((2,2), strides = (2,2), padding = 'same')(conv1)\n",
        "\n",
        "pool1.shape"
      ]
    },
    {
      "cell_type": "code",
      "execution_count": null,
      "metadata": {
        "colab": {
          "base_uri": "https://localhost:8080/"
        },
        "id": "zvT07iNGh9tF",
        "outputId": "fca8b479-3112-44fd-a267-56354c98d2b4"
      },
      "outputs": [
        {
          "data": {
            "text/plain": [
              "TensorShape([None, 128, 128, 32])"
            ]
          },
          "execution_count": 68,
          "metadata": {},
          "output_type": "execute_result"
        }
      ],
      "source": [
        "conv2 = Conv2D(filters*2, (3,3), padding = 'same', activation = 'relu', kernel_initializer = 'he_uniform')(pool1)\n",
        "conv2 = Conv2D(filters*2, (3,3), padding = 'same', activation = 'relu', kernel_initializer = 'he_uniform')(conv2)\n",
        "pool2 = MaxPooling2D((2,2), strides = (2,2), padding = 'same')(conv2)\n",
        "\n",
        "pool2.shape"
      ]
    },
    {
      "cell_type": "code",
      "execution_count": null,
      "metadata": {
        "colab": {
          "base_uri": "https://localhost:8080/"
        },
        "id": "v1Jn_c5BiKFr",
        "outputId": "127acbf9-1cf5-4c7e-dbf3-01cd3b7493be"
      },
      "outputs": [
        {
          "data": {
            "text/plain": [
              "TensorShape([None, 64, 64, 256])"
            ]
          },
          "execution_count": 69,
          "metadata": {},
          "output_type": "execute_result"
        }
      ],
      "source": [
        "conv3 = Conv2D(filters*4, (3,3), padding = 'same', activation = 'relu', kernel_initializer = 'he_uniform')(pool2)\n",
        "conv3 = Conv2D(filters*4, (3,3), padding = 'same', activation = 'relu', kernel_initializer = 'he_uniform')(conv3)\n",
        "conv3 = Conv2D(256, (3,3), padding = 'same', activation = 'relu', kernel_initializer = 'he_uniform')(conv3)\n",
        "pool3 = MaxPooling2D((2,2), strides = (2,2), padding = 'same')(conv3)\n",
        "\n",
        "pool3.shape"
      ]
    },
    {
      "cell_type": "code",
      "execution_count": null,
      "metadata": {
        "colab": {
          "base_uri": "https://localhost:8080/"
        },
        "id": "Wh_9A1tSiWHU",
        "outputId": "dfa92b28-522b-4578-ff96-eb1edcd572b0"
      },
      "outputs": [
        {
          "data": {
            "text/plain": [
              "TensorShape([None, 32, 32, 128])"
            ]
          },
          "execution_count": 70,
          "metadata": {},
          "output_type": "execute_result"
        }
      ],
      "source": [
        "conv4 = Conv2D(filters*8, (3,3), padding = 'same', activation = 'relu', kernel_initializer = 'he_uniform')(pool3)\n",
        "conv4 = Conv2D(filters*8, (3,3), padding = 'same', activation = 'relu', kernel_initializer = 'he_uniform')(conv4)\n",
        "conv4 = Conv2D(filters*8, (3,3), padding = 'same', activation = 'relu', kernel_initializer = 'he_uniform')(conv4)\n",
        "pool4 = MaxPooling2D((2,2), strides = (2,2), padding = 'same')(conv4)\n",
        "\n",
        "pool4.shape"
      ]
    },
    {
      "cell_type": "code",
      "execution_count": null,
      "metadata": {
        "colab": {
          "base_uri": "https://localhost:8080/"
        },
        "id": "91o5-ICkih28",
        "outputId": "2885c729-77e9-479c-fb14-2643b4da1e70"
      },
      "outputs": [
        {
          "data": {
            "text/plain": [
              "TensorShape([None, 16, 16, 128])"
            ]
          },
          "execution_count": 71,
          "metadata": {},
          "output_type": "execute_result"
        }
      ],
      "source": [
        "conv5 = Conv2D(filters*8, (3,3), padding = 'same', activation = 'relu', kernel_initializer = 'he_uniform')(pool4)\n",
        "conv5 = Conv2D(filters*8, (3,3), padding = 'same', activation = 'relu', kernel_initializer = 'he_uniform')(conv5)\n",
        "conv5 = Conv2D(filters*8, (3,3), padding = 'same', activation = 'relu', kernel_initializer = 'he_uniform')(conv5)\n",
        "pool5 = MaxPooling2D((2,2), strides = (2,2), padding = 'same')(conv5)\n",
        "\n",
        "pool5.shape"
      ]
    },
    {
      "cell_type": "code",
      "execution_count": null,
      "metadata": {
        "colab": {
          "base_uri": "https://localhost:8080/"
        },
        "id": "c1hFBTrAlPgk",
        "outputId": "a36380c2-2595-415a-b8ce-11c3ff39317b"
      },
      "outputs": [
        {
          "data": {
            "text/plain": [
              "TensorShape([None, 16, 16, 2])"
            ]
          },
          "execution_count": 72,
          "metadata": {},
          "output_type": "execute_result"
        }
      ],
      "source": [
        "conv6 = Conv2D(filters*64, (7,7), padding = 'same', activation = 'relu', kernel_initializer = 'he_uniform')(pool5)\n",
        "conv6 = Conv2D(filters*64, (1,1), padding = 'same', activation = 'relu', kernel_initializer = 'he_uniform')(conv6)\n",
        "conv6 = Conv2D(2, (1,1), padding = 'same', activation = 'relu', kernel_initializer = 'he_uniform')(conv6)\n",
        "\n",
        "conv6.shape"
      ]
    },
    {
      "cell_type": "code",
      "execution_count": null,
      "metadata": {
        "colab": {
          "base_uri": "https://localhost:8080/"
        },
        "id": "iZOc0Pn3faRi",
        "outputId": "36b402b5-9b29-4219-bb97-8b6bbd5edd5d"
      },
      "outputs": [
        {
          "data": {
            "text/plain": [
              "TensorShape([None, 32, 32, 2])"
            ]
          },
          "execution_count": 73,
          "metadata": {},
          "output_type": "execute_result"
        }
      ],
      "source": [
        "conv7 = Conv2DTranspose(2, kernel_size=(4,4), strides=(2,2), padding='valid')(conv6)\n",
        "conv7 = Cropping2D((1,1))(conv7)\n",
        "\n",
        "conv7.shape"
      ]
    },
    {
      "cell_type": "code",
      "execution_count": null,
      "metadata": {
        "colab": {
          "base_uri": "https://localhost:8080/"
        },
        "id": "H8MuLm5nN1Aj",
        "outputId": "6bb70e75-2aea-4355-9f98-40b998b72b54"
      },
      "outputs": [
        {
          "data": {
            "text/plain": [
              "TensorShape([None, 32, 32, 2])"
            ]
          },
          "execution_count": 74,
          "metadata": {},
          "output_type": "execute_result"
        }
      ],
      "source": [
        "add01 = Conv2D(2, (1,1), activation = \"relu\", padding = 'same')(pool4)\n",
        "add01.shape"
      ]
    },
    {
      "cell_type": "code",
      "execution_count": null,
      "metadata": {
        "colab": {
          "base_uri": "https://localhost:8080/"
        },
        "id": "cA_jyBziOPSM",
        "outputId": "b9c6a1bc-72dd-4731-efa1-7626cc22fa24"
      },
      "outputs": [
        {
          "data": {
            "text/plain": [
              "TensorShape([None, 32, 32, 2])"
            ]
          },
          "execution_count": 75,
          "metadata": {},
          "output_type": "execute_result"
        }
      ],
      "source": [
        "out1 = Add()([conv7, add01])\n",
        "\n",
        "out1.shape"
      ]
    },
    {
      "cell_type": "code",
      "execution_count": null,
      "metadata": {
        "colab": {
          "base_uri": "https://localhost:8080/"
        },
        "id": "t-p1_TX3RLoE",
        "outputId": "d3e7f6c6-bb92-467d-a591-18ecbc2030e9"
      },
      "outputs": [
        {
          "data": {
            "text/plain": [
              "TensorShape([None, 64, 64, 2])"
            ]
          },
          "execution_count": 76,
          "metadata": {},
          "output_type": "execute_result"
        }
      ],
      "source": [
        "out2 = Conv2DTranspose(2, kernel_size=(4,4), strides=(2,2), padding='valid')(out1)\n",
        "out2 = Cropping2D((1,1))(out2)\n",
        "\n",
        "out2.shape"
      ]
    },
    {
      "cell_type": "code",
      "execution_count": null,
      "metadata": {
        "colab": {
          "base_uri": "https://localhost:8080/"
        },
        "id": "mAVazeLxRa0V",
        "outputId": "048d6ce3-a71c-40f6-863d-ce3ec73e1b4b"
      },
      "outputs": [
        {
          "data": {
            "text/plain": [
              "TensorShape([None, 64, 64, 2])"
            ]
          },
          "execution_count": 77,
          "metadata": {},
          "output_type": "execute_result"
        }
      ],
      "source": [
        "add01 = Conv2D(2, (1,1), activation = \"relu\", padding = 'same')(pool3)\n",
        "add01.shape"
      ]
    },
    {
      "cell_type": "code",
      "execution_count": null,
      "metadata": {
        "colab": {
          "base_uri": "https://localhost:8080/"
        },
        "id": "wWt5IrtkRf91",
        "outputId": "192a8869-1533-4ed7-89f0-4fa6946e573e"
      },
      "outputs": [
        {
          "data": {
            "text/plain": [
              "TensorShape([None, 64, 64, 2])"
            ]
          },
          "execution_count": 78,
          "metadata": {},
          "output_type": "execute_result"
        }
      ],
      "source": [
        "out2 = Add()([out2, add01])\n",
        "\n",
        "out2.shape"
      ]
    },
    {
      "cell_type": "code",
      "execution_count": null,
      "metadata": {
        "colab": {
          "base_uri": "https://localhost:8080/"
        },
        "id": "ZnKF3ecnRslr",
        "outputId": "fc6c4b48-38b3-4e6e-abef-6b74895125f8"
      },
      "outputs": [
        {
          "data": {
            "text/plain": [
              "TensorShape([None, 520, 520, 1])"
            ]
          },
          "execution_count": 79,
          "metadata": {},
          "output_type": "execute_result"
        }
      ],
      "source": [
        "output = Conv2DTranspose(1, kernel_size=(16,16),strides = (8,8), padding='valid',  activation = 'sigmoid')(out2)\n",
        "output.shape"
      ]
    },
    {
      "cell_type": "code",
      "execution_count": null,
      "metadata": {
        "colab": {
          "base_uri": "https://localhost:8080/"
        },
        "id": "MHHYL1aiSJp1",
        "outputId": "2f4c29b7-4dde-48bc-9c2c-5f256761957e"
      },
      "outputs": [
        {
          "data": {
            "text/plain": [
              "TensorShape([None, 512, 512, 1])"
            ]
          },
          "execution_count": 80,
          "metadata": {},
          "output_type": "execute_result"
        }
      ],
      "source": [
        "output = Cropping2D(cropping=((0,8),(0,8)))(output)\n",
        "output.shape"
      ]
    },
    {
      "cell_type": "code",
      "execution_count": null,
      "metadata": {
        "colab": {
          "base_uri": "https://localhost:8080/"
        },
        "id": "utWtbw0oSZTF",
        "outputId": "49f894fc-891a-452b-8404-c6525926f8cc"
      },
      "outputs": [
        {
          "name": "stdout",
          "output_type": "stream",
          "text": [
            "Model: \"model_3\"\n",
            "__________________________________________________________________________________________________\n",
            " Layer (type)                   Output Shape         Param #     Connected to                     \n",
            "==================================================================================================\n",
            " input_4 (InputLayer)           [(None, 512, 512, 3  0           []                               \n",
            "                                )]                                                                \n",
            "                                                                                                  \n",
            " conv2d_54 (Conv2D)             (None, 512, 512, 16  448         ['input_4[0][0]']                \n",
            "                                )                                                                 \n",
            "                                                                                                  \n",
            " conv2d_55 (Conv2D)             (None, 512, 512, 16  2320        ['conv2d_54[0][0]']              \n",
            "                                )                                                                 \n",
            "                                                                                                  \n",
            " max_pooling2d_15 (MaxPooling2D  (None, 256, 256, 16  0          ['conv2d_55[0][0]']              \n",
            " )                              )                                                                 \n",
            "                                                                                                  \n",
            " conv2d_56 (Conv2D)             (None, 256, 256, 32  4640        ['max_pooling2d_15[0][0]']       \n",
            "                                )                                                                 \n",
            "                                                                                                  \n",
            " conv2d_57 (Conv2D)             (None, 256, 256, 32  9248        ['conv2d_56[0][0]']              \n",
            "                                )                                                                 \n",
            "                                                                                                  \n",
            " max_pooling2d_16 (MaxPooling2D  (None, 128, 128, 32  0          ['conv2d_57[0][0]']              \n",
            " )                              )                                                                 \n",
            "                                                                                                  \n",
            " conv2d_58 (Conv2D)             (None, 128, 128, 64  18496       ['max_pooling2d_16[0][0]']       \n",
            "                                )                                                                 \n",
            "                                                                                                  \n",
            " conv2d_59 (Conv2D)             (None, 128, 128, 64  36928       ['conv2d_58[0][0]']              \n",
            "                                )                                                                 \n",
            "                                                                                                  \n",
            " conv2d_60 (Conv2D)             (None, 128, 128, 25  147712      ['conv2d_59[0][0]']              \n",
            "                                6)                                                                \n",
            "                                                                                                  \n",
            " max_pooling2d_17 (MaxPooling2D  (None, 64, 64, 256)  0          ['conv2d_60[0][0]']              \n",
            " )                                                                                                \n",
            "                                                                                                  \n",
            " conv2d_61 (Conv2D)             (None, 64, 64, 128)  295040      ['max_pooling2d_17[0][0]']       \n",
            "                                                                                                  \n",
            " conv2d_62 (Conv2D)             (None, 64, 64, 128)  147584      ['conv2d_61[0][0]']              \n",
            "                                                                                                  \n",
            " conv2d_63 (Conv2D)             (None, 64, 64, 128)  147584      ['conv2d_62[0][0]']              \n",
            "                                                                                                  \n",
            " max_pooling2d_18 (MaxPooling2D  (None, 32, 32, 128)  0          ['conv2d_63[0][0]']              \n",
            " )                                                                                                \n",
            "                                                                                                  \n",
            " conv2d_64 (Conv2D)             (None, 32, 32, 128)  147584      ['max_pooling2d_18[0][0]']       \n",
            "                                                                                                  \n",
            " conv2d_65 (Conv2D)             (None, 32, 32, 128)  147584      ['conv2d_64[0][0]']              \n",
            "                                                                                                  \n",
            " conv2d_66 (Conv2D)             (None, 32, 32, 128)  147584      ['conv2d_65[0][0]']              \n",
            "                                                                                                  \n",
            " max_pooling2d_19 (MaxPooling2D  (None, 16, 16, 128)  0          ['conv2d_66[0][0]']              \n",
            " )                                                                                                \n",
            "                                                                                                  \n",
            " conv2d_67 (Conv2D)             (None, 16, 16, 1024  6423552     ['max_pooling2d_19[0][0]']       \n",
            "                                )                                                                 \n",
            "                                                                                                  \n",
            " conv2d_68 (Conv2D)             (None, 16, 16, 1024  1049600     ['conv2d_67[0][0]']              \n",
            "                                )                                                                 \n",
            "                                                                                                  \n",
            " conv2d_69 (Conv2D)             (None, 16, 16, 2)    2050        ['conv2d_68[0][0]']              \n",
            "                                                                                                  \n",
            " conv2d_transpose_9 (Conv2DTran  (None, 34, 34, 2)   66          ['conv2d_69[0][0]']              \n",
            " spose)                                                                                           \n",
            "                                                                                                  \n",
            " cropping2d_9 (Cropping2D)      (None, 32, 32, 2)    0           ['conv2d_transpose_9[0][0]']     \n",
            "                                                                                                  \n",
            " conv2d_70 (Conv2D)             (None, 32, 32, 2)    258         ['max_pooling2d_18[0][0]']       \n",
            "                                                                                                  \n",
            " add_6 (Add)                    (None, 32, 32, 2)    0           ['cropping2d_9[0][0]',           \n",
            "                                                                  'conv2d_70[0][0]']              \n",
            "                                                                                                  \n",
            " conv2d_transpose_10 (Conv2DTra  (None, 66, 66, 2)   66          ['add_6[0][0]']                  \n",
            " nspose)                                                                                          \n",
            "                                                                                                  \n",
            " cropping2d_10 (Cropping2D)     (None, 64, 64, 2)    0           ['conv2d_transpose_10[0][0]']    \n",
            "                                                                                                  \n",
            " conv2d_71 (Conv2D)             (None, 64, 64, 2)    514         ['max_pooling2d_17[0][0]']       \n",
            "                                                                                                  \n",
            " add_7 (Add)                    (None, 64, 64, 2)    0           ['cropping2d_10[0][0]',          \n",
            "                                                                  'conv2d_71[0][0]']              \n",
            "                                                                                                  \n",
            " conv2d_transpose_11 (Conv2DTra  (None, 520, 520, 1)  513        ['add_7[0][0]']                  \n",
            " nspose)                                                                                          \n",
            "                                                                                                  \n",
            " cropping2d_11 (Cropping2D)     (None, 512, 512, 1)  0           ['conv2d_transpose_11[0][0]']    \n",
            "                                                                                                  \n",
            "==================================================================================================\n",
            "Total params: 8,729,371\n",
            "Trainable params: 8,729,371\n",
            "Non-trainable params: 0\n",
            "__________________________________________________________________________________________________\n"
          ]
        }
      ],
      "source": [
        "model = Model(inputs = [input], outputs = [output])\n",
        "#Now using MeanIoU instead of accuracy\n",
        "#model.compile(optimizer = tf.keras.optimizers.Adam(learning_rate=1e-3), loss = 'binary_crossentropy', metrics = ['accuracy', MeanIoU(num_classes=2, name = 'MeanIoU')])\n",
        "#Using only dice\n",
        "model.compile(optimizer = tf.keras.optimizers.Adam(learning_rate=1e-3), loss = ['binary_crossentropy'], metrics = ['accuracy'])\n",
        "model.summary()"
      ]
    },
    {
      "cell_type": "markdown",
      "source": [
        "#3 Treinamento\n"
      ],
      "metadata": {
        "id": "zfOVzgvZRT5E"
      }
    },
    {
      "cell_type": "code",
      "execution_count": null,
      "metadata": {
        "colab": {
          "background_save": true,
          "base_uri": "https://localhost:8080/"
        },
        "id": "XGWC4gMoy8o-",
        "outputId": "99b2b4f5-1580-447b-9177-55a2c6c0ab5e"
      },
      "outputs": [
        {
          "name": "stdout",
          "output_type": "stream",
          "text": [
            "Epoch 1/50\n",
            "53/53 [==============================] - 809s 15s/step - loss: 0.8803 - accuracy: 0.7446 - val_loss: 0.6817 - val_accuracy: 0.7225\n",
            "Epoch 2/50\n",
            "53/53 [==============================] - 814s 15s/step - loss: 0.6739 - accuracy: 0.7547 - val_loss: 0.6712 - val_accuracy: 0.7225\n",
            "Epoch 3/50\n",
            "53/53 [==============================] - 789s 15s/step - loss: 0.6623 - accuracy: 0.7547 - val_loss: 0.6616 - val_accuracy: 0.7225\n",
            "Epoch 4/50\n",
            "53/53 [==============================] - 807s 15s/step - loss: 0.6515 - accuracy: 0.7547 - val_loss: 0.6529 - val_accuracy: 0.7225\n",
            "Epoch 5/50\n",
            "53/53 [==============================] - 802s 15s/step - loss: 0.6414 - accuracy: 0.7547 - val_loss: 0.6446 - val_accuracy: 0.7225\n",
            "Epoch 6/50\n",
            "53/53 [==============================] - 774s 15s/step - loss: 0.6316 - accuracy: 0.7547 - val_loss: 0.6365 - val_accuracy: 0.7225\n",
            "Epoch 7/50\n",
            "53/53 [==============================] - 748s 14s/step - loss: 0.6215 - accuracy: 0.7547 - val_loss: 0.6282 - val_accuracy: 0.7225\n",
            "Epoch 8/50\n",
            "53/53 [==============================] - 745s 14s/step - loss: 0.6110 - accuracy: 0.7547 - val_loss: 0.6200 - val_accuracy: 0.7225\n",
            "Epoch 9/50\n",
            "53/53 [==============================] - 739s 14s/step - loss: 0.6005 - accuracy: 0.7547 - val_loss: 0.6122 - val_accuracy: 0.7225\n",
            "Epoch 10/50\n",
            "53/53 [==============================] - 767s 15s/step - loss: 0.5904 - accuracy: 0.7547 - val_loss: 0.6059 - val_accuracy: 0.7225\n",
            "Epoch 11/50\n",
            "53/53 [==============================] - 765s 14s/step - loss: 0.5816 - accuracy: 0.7547 - val_loss: 0.6010 - val_accuracy: 0.7225\n",
            "Epoch 12/50\n",
            "53/53 [==============================] - 763s 14s/step - loss: 0.5746 - accuracy: 0.7547 - val_loss: 0.5978 - val_accuracy: 0.7225\n",
            "Epoch 13/50\n",
            "53/53 [==============================] - 741s 14s/step - loss: 0.5694 - accuracy: 0.7547 - val_loss: 0.5961 - val_accuracy: 0.7225\n",
            "Epoch 14/50\n",
            "53/53 [==============================] - 775s 15s/step - loss: 0.5659 - accuracy: 0.7547 - val_loss: 0.5954 - val_accuracy: 0.7225\n",
            "Epoch 15/50\n",
            "53/53 [==============================] - 770s 15s/step - loss: 0.5637 - accuracy: 0.7547 - val_loss: 0.5953 - val_accuracy: 0.7225\n",
            "Epoch 16/50\n",
            "53/53 [==============================] - 766s 14s/step - loss: 0.5624 - accuracy: 0.7547 - val_loss: 0.5954 - val_accuracy: 0.7225\n",
            "Epoch 17/50\n",
            "53/53 [==============================] - 762s 14s/step - loss: 0.5617 - accuracy: 0.7547 - val_loss: 0.5954 - val_accuracy: 0.7225\n",
            "Epoch 18/50\n",
            "53/53 [==============================] - 764s 14s/step - loss: 0.5612 - accuracy: 0.7547 - val_loss: 0.5954 - val_accuracy: 0.7225\n",
            "Epoch 19/50\n",
            "39/53 [=====================>........] - ETA: 3:00 - loss: 0.5612 - accuracy: 0.7544"
          ]
        }
      ],
      "source": [
        "checkpoint = ModelCheckpoint(filepath='model.h5', save_freq = 'epoch')\n",
        "\n",
        "#model.load_weights(\"model.h5\")\n",
        "history = model.fit(X, y, epochs=50, batch_size = 8, callbacks = [checkpoint], validation_data=(X_val, y_val))"
      ]
    },
    {
      "cell_type": "code",
      "execution_count": null,
      "metadata": {
        "id": "Yg21JABETKRM"
      },
      "outputs": [],
      "source": [
        "#model = tf.keras.models.load_model('model.31.h5')\n",
        "a = X_val[0:10]\n",
        "test = model.predict(a)\n",
        "#X_val.shape"
      ]
    },
    {
      "cell_type": "code",
      "execution_count": null,
      "metadata": {
        "id": "PHW1J5PQTKwE"
      },
      "outputs": [],
      "source": [
        "image_id = 6\n",
        "\n",
        "f, axarr = plt.subplots(2,2)\n",
        "axarr[0,0].imshow(X_val[image_id])\n",
        "axarr[0,1].imshow(y_val[image_id,:,:], cmap = 'gray')\n",
        "axarr[1,0].imshow(X_val[image_id])\n",
        "axarr[1,1].imshow(test[image_id,:,:], cmap = 'gray')\n",
        "\n",
        "plt.show()"
      ]
    },
    {
      "cell_type": "code",
      "execution_count": null,
      "metadata": {
        "id": "9XRIacHcTNbn"
      },
      "outputs": [],
      "source": [
        "import pickle\n",
        "\n",
        "\n",
        "with open('trainHistoryDict', 'wb') as file_pi:\n",
        "    pickle.dump(history.history, file_pi)"
      ]
    }
  ],
  "metadata": {
    "colab": {
      "provenance": []
    },
    "kernelspec": {
      "display_name": "Python 3",
      "name": "python3"
    },
    "language_info": {
      "name": "python"
    }
  },
  "nbformat": 4,
  "nbformat_minor": 0
}